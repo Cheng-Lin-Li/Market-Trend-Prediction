{
 "cells": [
  {
   "cell_type": "markdown",
   "metadata": {},
   "source": [
    "# Dow Jones Industrial Average (DJIA) Prediction\n",
    "# - without Social Media information\n",
    "## Given: \n",
    "    12 months Date(T), Company Name, Stock Price, DJIA\n",
    "\n",
    "## Task:\n",
    "###    Given data from Aug 1, 2016 to Nov 30, 2017\n",
    "###    Split data to\n",
    "    1. Training set from Aug 1, 2016 to Jul 31, 2017\n",
    "    2. Validation set from Aug 1, 2017 to Sep 17, 2017\n",
    "    \n",
    "###    To Predict T+1 and T+30 of DJIA  in next 1 months (Sep 18, 2017 to Oct 18, 2017).\n",
    "    \n",
    "## Data Sources:\n",
    "### a. Yahoo Finance 30 companies stock price + DJIA\n",
    "\n",
    "for 30 companies\n",
    "format=>No. company: facebook id\n",
    "1. 3M: 3m\n",
    "2. American Express: AmericanExpressUS\n",
    "3. Apple: AppleInc.HD\n",
    "4. Boeing: Boeing\n",
    "5. Caterpillar: caterpillar\n",
    "6. Chevron: Chevron\n",
    "7. Cisco Systems: Cisco\n",
    "8. Coca-Cola: CocaColaUnitedStates\n",
    "9. DowDuPont: dupontco\n",
    "10. ExxonMobil: ExxonMobil\n",
    "11. General Electric: GE\n",
    "12. Goldman Sachs:goldmansachs\n",
    "13. IBM: ibm\n",
    "14. Intel: Intel\n",
    "15. Johnson & Johnson: jnj\n",
    "16. JPMorgan Chase: jpmorganchase\n",
    "17. McDonald's: McDonaldsUS\n",
    "18. Merck: MerckInvents\n",
    "19. Microsoft: Microsoft\n",
    "20. Nike: Nike, nikesportswear\n",
    "21. Pfizer: Pfizer\n",
    "22. Procter & Gamble: proctergamble\n",
    "23. The Home Depot: homedepot\n",
    "24. Travelers: travelers\n",
    "25. United Technologies: unitedtechnologiescorp\n",
    "26. UnitedHealth Group: unitedhealthgroup\n",
    "27. Verizon: Verizon\n",
    "28. Visa: VisaUnitedStates\n",
    "29. Walmart: Walmart\n",
    "30. Walt Disney: Disney\n",
    "\n",
    "Query target string: 3m, AmericanExpressUS, AppleInc.HD, Boeing, caterpillar, Chevron, Cisco, CocaColaUnitedStates, dupontco, ExxonMobil, GE, goldmansachs, ibm, Intel, jnj, jpmorganchase, McDonaldsUS, MerckInvents, Microsoft, Nike, nikesportswear, Pfizer, proctergamble, homedepot, travelers, unitedtechnologiescorp, unitedhealthgroup, Verizon, VisaUnitedStates, Walmart, Disney\n"
   ]
  },
  {
   "cell_type": "code",
   "execution_count": 5,
   "metadata": {
    "collapsed": true
   },
   "outputs": [],
   "source": [
    "import datetime as dt\n",
    "import pandas as pd\n",
    "import numpy as np\n",
    "import matplotlib.pyplot as plt\n",
    "\n",
    "%matplotlib inline"
   ]
  },
  {
   "cell_type": "code",
   "execution_count": 6,
   "metadata": {
    "collapsed": true
   },
   "outputs": [],
   "source": [
    "import warnings\n",
    "warnings.filterwarnings('ignore')"
   ]
  },
  {
   "cell_type": "markdown",
   "metadata": {},
   "source": [
    "## Read training and test data"
   ]
  },
  {
   "cell_type": "code",
   "execution_count": 7,
   "metadata": {
    "collapsed": true
   },
   "outputs": [],
   "source": [
    "dataset = pd.read_csv('integrated_data-simple.csv', encoding = \"utf-8\", parse_dates=[\"date\"],\n",
    "date_parser=lambda x: pd.to_datetime(x, format=\"%Y%m%d %H:%M:%S\"))\n",
    "# convert date to int\n",
    "dataset['date']=dataset['date'].dt.strftime('%Y%m%d')\n",
    "dataset.set_index(['date', 'company'], inplace=True)\n",
    "dataset = dataset.sort_index()"
   ]
  },
  {
   "cell_type": "code",
   "execution_count": 8,
   "metadata": {},
   "outputs": [
    {
     "data": {
      "text/html": [
       "<div>\n",
       "<style>\n",
       "    .dataframe thead tr:only-child th {\n",
       "        text-align: right;\n",
       "    }\n",
       "\n",
       "    .dataframe thead th {\n",
       "        text-align: left;\n",
       "    }\n",
       "\n",
       "    .dataframe tbody tr th {\n",
       "        vertical-align: top;\n",
       "    }\n",
       "</style>\n",
       "<table border=\"1\" class=\"dataframe\">\n",
       "  <thead>\n",
       "    <tr style=\"text-align: right;\">\n",
       "      <th></th>\n",
       "      <th></th>\n",
       "      <th>open</th>\n",
       "      <th>high</th>\n",
       "      <th>low</th>\n",
       "      <th>close</th>\n",
       "      <th>adj close</th>\n",
       "      <th>volume</th>\n",
       "    </tr>\n",
       "    <tr>\n",
       "      <th>date</th>\n",
       "      <th>company</th>\n",
       "      <th></th>\n",
       "      <th></th>\n",
       "      <th></th>\n",
       "      <th></th>\n",
       "      <th></th>\n",
       "      <th></th>\n",
       "    </tr>\n",
       "  </thead>\n",
       "  <tbody>\n",
       "    <tr>\n",
       "      <th rowspan=\"5\" valign=\"top\">20160801</th>\n",
       "      <th>3M</th>\n",
       "      <td>177.080002</td>\n",
       "      <td>178.539993</td>\n",
       "      <td>177.080002</td>\n",
       "      <td>178.289993</td>\n",
       "      <td>172.017365</td>\n",
       "      <td>1598400</td>\n",
       "    </tr>\n",
       "    <tr>\n",
       "      <th>American Express</th>\n",
       "      <td>64.489998</td>\n",
       "      <td>64.739998</td>\n",
       "      <td>63.959999</td>\n",
       "      <td>64.129997</td>\n",
       "      <td>62.797729</td>\n",
       "      <td>2913900</td>\n",
       "    </tr>\n",
       "    <tr>\n",
       "      <th>Apple</th>\n",
       "      <td>104.410004</td>\n",
       "      <td>106.150002</td>\n",
       "      <td>104.410004</td>\n",
       "      <td>106.050003</td>\n",
       "      <td>103.278984</td>\n",
       "      <td>38167900</td>\n",
       "    </tr>\n",
       "    <tr>\n",
       "      <th>Boeing</th>\n",
       "      <td>133.210007</td>\n",
       "      <td>134.229996</td>\n",
       "      <td>132.699997</td>\n",
       "      <td>133.210007</td>\n",
       "      <td>127.552055</td>\n",
       "      <td>3067300</td>\n",
       "    </tr>\n",
       "    <tr>\n",
       "      <th>Caterpillar</th>\n",
       "      <td>82.760002</td>\n",
       "      <td>82.879997</td>\n",
       "      <td>81.529999</td>\n",
       "      <td>81.949997</td>\n",
       "      <td>78.857796</td>\n",
       "      <td>3377100</td>\n",
       "    </tr>\n",
       "  </tbody>\n",
       "</table>\n",
       "</div>"
      ],
      "text/plain": [
       "                                 open        high         low       close  \\\n",
       "date     company                                                            \n",
       "20160801 3M                177.080002  178.539993  177.080002  178.289993   \n",
       "         American Express   64.489998   64.739998   63.959999   64.129997   \n",
       "         Apple             104.410004  106.150002  104.410004  106.050003   \n",
       "         Boeing            133.210007  134.229996  132.699997  133.210007   \n",
       "         Caterpillar        82.760002   82.879997   81.529999   81.949997   \n",
       "\n",
       "                            adj close    volume  \n",
       "date     company                                 \n",
       "20160801 3M                172.017365   1598400  \n",
       "         American Express   62.797729   2913900  \n",
       "         Apple             103.278984  38167900  \n",
       "         Boeing            127.552055   3067300  \n",
       "         Caterpillar        78.857796   3377100  "
      ]
     },
     "execution_count": 8,
     "metadata": {},
     "output_type": "execute_result"
    }
   ],
   "source": [
    "dataset.head(5)"
   ]
  },
  {
   "cell_type": "code",
   "execution_count": 9,
   "metadata": {},
   "outputs": [
    {
     "data": {
      "text/html": [
       "<div>\n",
       "<style>\n",
       "    .dataframe thead tr:only-child th {\n",
       "        text-align: right;\n",
       "    }\n",
       "\n",
       "    .dataframe thead th {\n",
       "        text-align: left;\n",
       "    }\n",
       "\n",
       "    .dataframe tbody tr th {\n",
       "        vertical-align: top;\n",
       "    }\n",
       "</style>\n",
       "<table border=\"1\" class=\"dataframe\">\n",
       "  <thead>\n",
       "    <tr style=\"text-align: right;\">\n",
       "      <th></th>\n",
       "      <th></th>\n",
       "      <th>open</th>\n",
       "      <th>high</th>\n",
       "      <th>low</th>\n",
       "      <th>close</th>\n",
       "      <th>adj close</th>\n",
       "      <th>volume</th>\n",
       "    </tr>\n",
       "    <tr>\n",
       "      <th>date</th>\n",
       "      <th>company</th>\n",
       "      <th></th>\n",
       "      <th></th>\n",
       "      <th></th>\n",
       "      <th></th>\n",
       "      <th></th>\n",
       "      <th></th>\n",
       "    </tr>\n",
       "  </thead>\n",
       "  <tbody>\n",
       "    <tr>\n",
       "      <th rowspan=\"5\" valign=\"top\">20171130</th>\n",
       "      <th>UnitedHealth Group</th>\n",
       "      <td>223.830002</td>\n",
       "      <td>228.750000</td>\n",
       "      <td>222.289993</td>\n",
       "      <td>228.169998</td>\n",
       "      <td>228.169998</td>\n",
       "      <td>6681900</td>\n",
       "    </tr>\n",
       "    <tr>\n",
       "      <th>Verizon</th>\n",
       "      <td>50.000000</td>\n",
       "      <td>51.090000</td>\n",
       "      <td>49.990002</td>\n",
       "      <td>50.889999</td>\n",
       "      <td>50.889999</td>\n",
       "      <td>31764000</td>\n",
       "    </tr>\n",
       "    <tr>\n",
       "      <th>Visa</th>\n",
       "      <td>110.500000</td>\n",
       "      <td>112.589996</td>\n",
       "      <td>110.029999</td>\n",
       "      <td>112.589996</td>\n",
       "      <td>112.589996</td>\n",
       "      <td>18053200</td>\n",
       "    </tr>\n",
       "    <tr>\n",
       "      <th>Walmart</th>\n",
       "      <td>98.089996</td>\n",
       "      <td>98.440002</td>\n",
       "      <td>96.510002</td>\n",
       "      <td>97.230003</td>\n",
       "      <td>97.230003</td>\n",
       "      <td>12001400</td>\n",
       "    </tr>\n",
       "    <tr>\n",
       "      <th>Walt Disney</th>\n",
       "      <td>105.360001</td>\n",
       "      <td>105.709999</td>\n",
       "      <td>104.470001</td>\n",
       "      <td>104.820000</td>\n",
       "      <td>104.820000</td>\n",
       "      <td>9033800</td>\n",
       "    </tr>\n",
       "  </tbody>\n",
       "</table>\n",
       "</div>"
      ],
      "text/plain": [
       "                                   open        high         low       close  \\\n",
       "date     company                                                              \n",
       "20171130 UnitedHealth Group  223.830002  228.750000  222.289993  228.169998   \n",
       "         Verizon              50.000000   51.090000   49.990002   50.889999   \n",
       "         Visa                110.500000  112.589996  110.029999  112.589996   \n",
       "         Walmart              98.089996   98.440002   96.510002   97.230003   \n",
       "         Walt Disney         105.360001  105.709999  104.470001  104.820000   \n",
       "\n",
       "                              adj close    volume  \n",
       "date     company                                   \n",
       "20171130 UnitedHealth Group  228.169998   6681900  \n",
       "         Verizon              50.889999  31764000  \n",
       "         Visa                112.589996  18053200  \n",
       "         Walmart              97.230003  12001400  \n",
       "         Walt Disney         104.820000   9033800  "
      ]
     },
     "execution_count": 9,
     "metadata": {},
     "output_type": "execute_result"
    }
   ],
   "source": [
    "dataset.tail(5)"
   ]
  },
  {
   "cell_type": "markdown",
   "metadata": {},
   "source": [
    "## Select the features for the model.\n",
    "### stock close price, facebook likes, facebook dislike, twitte likes"
   ]
  },
  {
   "cell_type": "code",
   "execution_count": 10,
   "metadata": {},
   "outputs": [
    {
     "data": {
      "text/html": [
       "<div>\n",
       "<style>\n",
       "    .dataframe thead tr:only-child th {\n",
       "        text-align: right;\n",
       "    }\n",
       "\n",
       "    .dataframe thead th {\n",
       "        text-align: left;\n",
       "    }\n",
       "\n",
       "    .dataframe tbody tr th {\n",
       "        vertical-align: top;\n",
       "    }\n",
       "</style>\n",
       "<table border=\"1\" class=\"dataframe\">\n",
       "  <thead>\n",
       "    <tr style=\"text-align: right;\">\n",
       "      <th></th>\n",
       "      <th></th>\n",
       "      <th>open</th>\n",
       "      <th>high</th>\n",
       "      <th>low</th>\n",
       "      <th>close</th>\n",
       "      <th>volume</th>\n",
       "    </tr>\n",
       "    <tr>\n",
       "      <th>date</th>\n",
       "      <th>company</th>\n",
       "      <th></th>\n",
       "      <th></th>\n",
       "      <th></th>\n",
       "      <th></th>\n",
       "      <th></th>\n",
       "    </tr>\n",
       "  </thead>\n",
       "  <tbody>\n",
       "    <tr>\n",
       "      <th rowspan=\"5\" valign=\"top\">20160801</th>\n",
       "      <th>3M</th>\n",
       "      <td>177.080002</td>\n",
       "      <td>178.539993</td>\n",
       "      <td>177.080002</td>\n",
       "      <td>178.289993</td>\n",
       "      <td>1598400</td>\n",
       "    </tr>\n",
       "    <tr>\n",
       "      <th>American Express</th>\n",
       "      <td>64.489998</td>\n",
       "      <td>64.739998</td>\n",
       "      <td>63.959999</td>\n",
       "      <td>64.129997</td>\n",
       "      <td>2913900</td>\n",
       "    </tr>\n",
       "    <tr>\n",
       "      <th>Apple</th>\n",
       "      <td>104.410004</td>\n",
       "      <td>106.150002</td>\n",
       "      <td>104.410004</td>\n",
       "      <td>106.050003</td>\n",
       "      <td>38167900</td>\n",
       "    </tr>\n",
       "    <tr>\n",
       "      <th>Boeing</th>\n",
       "      <td>133.210007</td>\n",
       "      <td>134.229996</td>\n",
       "      <td>132.699997</td>\n",
       "      <td>133.210007</td>\n",
       "      <td>3067300</td>\n",
       "    </tr>\n",
       "    <tr>\n",
       "      <th>Caterpillar</th>\n",
       "      <td>82.760002</td>\n",
       "      <td>82.879997</td>\n",
       "      <td>81.529999</td>\n",
       "      <td>81.949997</td>\n",
       "      <td>3377100</td>\n",
       "    </tr>\n",
       "  </tbody>\n",
       "</table>\n",
       "</div>"
      ],
      "text/plain": [
       "                                 open        high         low       close  \\\n",
       "date     company                                                            \n",
       "20160801 3M                177.080002  178.539993  177.080002  178.289993   \n",
       "         American Express   64.489998   64.739998   63.959999   64.129997   \n",
       "         Apple             104.410004  106.150002  104.410004  106.050003   \n",
       "         Boeing            133.210007  134.229996  132.699997  133.210007   \n",
       "         Caterpillar        82.760002   82.879997   81.529999   81.949997   \n",
       "\n",
       "                             volume  \n",
       "date     company                     \n",
       "20160801 3M                 1598400  \n",
       "         American Express   2913900  \n",
       "         Apple             38167900  \n",
       "         Boeing             3067300  \n",
       "         Caterpillar        3377100  "
      ]
     },
     "execution_count": 10,
     "metadata": {},
     "output_type": "execute_result"
    }
   ],
   "source": [
    "# Features selection\n",
    "X = dataset.loc[:, ['open','high','low', 'close','volume']]\n",
    "\n",
    "# Get DJIA close index price\n",
    "djia = dataset.loc[(dataset.index.get_level_values('company') == 'DJIA')]\n",
    "djia = djia.loc[:,['close']]\n",
    "\n",
    "X.head(5)    "
   ]
  },
  {
   "cell_type": "code",
   "execution_count": 11,
   "metadata": {},
   "outputs": [
    {
     "data": {
      "text/html": [
       "<div>\n",
       "<style>\n",
       "    .dataframe thead tr:only-child th {\n",
       "        text-align: right;\n",
       "    }\n",
       "\n",
       "    .dataframe thead th {\n",
       "        text-align: left;\n",
       "    }\n",
       "\n",
       "    .dataframe tbody tr th {\n",
       "        vertical-align: top;\n",
       "    }\n",
       "</style>\n",
       "<table border=\"1\" class=\"dataframe\">\n",
       "  <thead>\n",
       "    <tr style=\"text-align: right;\">\n",
       "      <th></th>\n",
       "      <th></th>\n",
       "      <th>close</th>\n",
       "    </tr>\n",
       "    <tr>\n",
       "      <th>date</th>\n",
       "      <th>company</th>\n",
       "      <th></th>\n",
       "    </tr>\n",
       "  </thead>\n",
       "  <tbody>\n",
       "    <tr>\n",
       "      <th>20160801</th>\n",
       "      <th>DJIA</th>\n",
       "      <td>18404.50977</td>\n",
       "    </tr>\n",
       "    <tr>\n",
       "      <th>20160802</th>\n",
       "      <th>DJIA</th>\n",
       "      <td>18313.76953</td>\n",
       "    </tr>\n",
       "    <tr>\n",
       "      <th>20160803</th>\n",
       "      <th>DJIA</th>\n",
       "      <td>18355.00000</td>\n",
       "    </tr>\n",
       "    <tr>\n",
       "      <th>20160804</th>\n",
       "      <th>DJIA</th>\n",
       "      <td>18352.05078</td>\n",
       "    </tr>\n",
       "    <tr>\n",
       "      <th>20160805</th>\n",
       "      <th>DJIA</th>\n",
       "      <td>18543.52930</td>\n",
       "    </tr>\n",
       "  </tbody>\n",
       "</table>\n",
       "</div>"
      ],
      "text/plain": [
       "                        close\n",
       "date     company             \n",
       "20160801 DJIA     18404.50977\n",
       "20160802 DJIA     18313.76953\n",
       "20160803 DJIA     18355.00000\n",
       "20160804 DJIA     18352.05078\n",
       "20160805 DJIA     18543.52930"
      ]
     },
     "execution_count": 11,
     "metadata": {},
     "output_type": "execute_result"
    }
   ],
   "source": [
    "djia.head(5)"
   ]
  },
  {
   "cell_type": "code",
   "execution_count": 12,
   "metadata": {},
   "outputs": [
    {
     "data": {
      "text/html": [
       "<div>\n",
       "<style>\n",
       "    .dataframe thead tr:only-child th {\n",
       "        text-align: right;\n",
       "    }\n",
       "\n",
       "    .dataframe thead th {\n",
       "        text-align: left;\n",
       "    }\n",
       "\n",
       "    .dataframe tbody tr th {\n",
       "        vertical-align: top;\n",
       "    }\n",
       "</style>\n",
       "<table border=\"1\" class=\"dataframe\">\n",
       "  <thead>\n",
       "    <tr style=\"text-align: right;\">\n",
       "      <th></th>\n",
       "      <th></th>\n",
       "      <th>close</th>\n",
       "      <th>T+1</th>\n",
       "      <th>T+30</th>\n",
       "    </tr>\n",
       "    <tr>\n",
       "      <th>date</th>\n",
       "      <th>company</th>\n",
       "      <th></th>\n",
       "      <th></th>\n",
       "      <th></th>\n",
       "    </tr>\n",
       "  </thead>\n",
       "  <tbody>\n",
       "    <tr>\n",
       "      <th>20171018</th>\n",
       "      <th>DJIA</th>\n",
       "      <td>23157.59961</td>\n",
       "      <td>23163.03906</td>\n",
       "      <td>24272.34961</td>\n",
       "    </tr>\n",
       "    <tr>\n",
       "      <th>20171019</th>\n",
       "      <th>DJIA</th>\n",
       "      <td>23163.03906</td>\n",
       "      <td>23328.63086</td>\n",
       "      <td>NaN</td>\n",
       "    </tr>\n",
       "    <tr>\n",
       "      <th>20171020</th>\n",
       "      <th>DJIA</th>\n",
       "      <td>23328.63086</td>\n",
       "      <td>23273.96094</td>\n",
       "      <td>NaN</td>\n",
       "    </tr>\n",
       "    <tr>\n",
       "      <th>20171023</th>\n",
       "      <th>DJIA</th>\n",
       "      <td>23273.96094</td>\n",
       "      <td>23441.75977</td>\n",
       "      <td>NaN</td>\n",
       "    </tr>\n",
       "    <tr>\n",
       "      <th>20171024</th>\n",
       "      <th>DJIA</th>\n",
       "      <td>23441.75977</td>\n",
       "      <td>23329.46094</td>\n",
       "      <td>NaN</td>\n",
       "    </tr>\n",
       "    <tr>\n",
       "      <th>20171025</th>\n",
       "      <th>DJIA</th>\n",
       "      <td>23329.46094</td>\n",
       "      <td>23400.85938</td>\n",
       "      <td>NaN</td>\n",
       "    </tr>\n",
       "    <tr>\n",
       "      <th>20171026</th>\n",
       "      <th>DJIA</th>\n",
       "      <td>23400.85938</td>\n",
       "      <td>23434.18945</td>\n",
       "      <td>NaN</td>\n",
       "    </tr>\n",
       "    <tr>\n",
       "      <th>20171027</th>\n",
       "      <th>DJIA</th>\n",
       "      <td>23434.18945</td>\n",
       "      <td>23348.74023</td>\n",
       "      <td>NaN</td>\n",
       "    </tr>\n",
       "    <tr>\n",
       "      <th>20171030</th>\n",
       "      <th>DJIA</th>\n",
       "      <td>23348.74023</td>\n",
       "      <td>23377.24023</td>\n",
       "      <td>NaN</td>\n",
       "    </tr>\n",
       "    <tr>\n",
       "      <th>20171031</th>\n",
       "      <th>DJIA</th>\n",
       "      <td>23377.24023</td>\n",
       "      <td>23435.00977</td>\n",
       "      <td>NaN</td>\n",
       "    </tr>\n",
       "    <tr>\n",
       "      <th>20171101</th>\n",
       "      <th>DJIA</th>\n",
       "      <td>23435.00977</td>\n",
       "      <td>23516.25977</td>\n",
       "      <td>NaN</td>\n",
       "    </tr>\n",
       "    <tr>\n",
       "      <th>20171102</th>\n",
       "      <th>DJIA</th>\n",
       "      <td>23516.25977</td>\n",
       "      <td>23539.18945</td>\n",
       "      <td>NaN</td>\n",
       "    </tr>\n",
       "    <tr>\n",
       "      <th>20171103</th>\n",
       "      <th>DJIA</th>\n",
       "      <td>23539.18945</td>\n",
       "      <td>23548.41992</td>\n",
       "      <td>NaN</td>\n",
       "    </tr>\n",
       "    <tr>\n",
       "      <th>20171106</th>\n",
       "      <th>DJIA</th>\n",
       "      <td>23548.41992</td>\n",
       "      <td>23557.23047</td>\n",
       "      <td>NaN</td>\n",
       "    </tr>\n",
       "    <tr>\n",
       "      <th>20171107</th>\n",
       "      <th>DJIA</th>\n",
       "      <td>23557.23047</td>\n",
       "      <td>23563.35938</td>\n",
       "      <td>NaN</td>\n",
       "    </tr>\n",
       "    <tr>\n",
       "      <th>20171108</th>\n",
       "      <th>DJIA</th>\n",
       "      <td>23563.35938</td>\n",
       "      <td>23461.93945</td>\n",
       "      <td>NaN</td>\n",
       "    </tr>\n",
       "    <tr>\n",
       "      <th>20171109</th>\n",
       "      <th>DJIA</th>\n",
       "      <td>23461.93945</td>\n",
       "      <td>23422.21094</td>\n",
       "      <td>NaN</td>\n",
       "    </tr>\n",
       "    <tr>\n",
       "      <th>20171110</th>\n",
       "      <th>DJIA</th>\n",
       "      <td>23422.21094</td>\n",
       "      <td>23439.69922</td>\n",
       "      <td>NaN</td>\n",
       "    </tr>\n",
       "    <tr>\n",
       "      <th>20171113</th>\n",
       "      <th>DJIA</th>\n",
       "      <td>23439.69922</td>\n",
       "      <td>23409.47070</td>\n",
       "      <td>NaN</td>\n",
       "    </tr>\n",
       "    <tr>\n",
       "      <th>20171114</th>\n",
       "      <th>DJIA</th>\n",
       "      <td>23409.47070</td>\n",
       "      <td>23271.27930</td>\n",
       "      <td>NaN</td>\n",
       "    </tr>\n",
       "    <tr>\n",
       "      <th>20171115</th>\n",
       "      <th>DJIA</th>\n",
       "      <td>23271.27930</td>\n",
       "      <td>23458.35938</td>\n",
       "      <td>NaN</td>\n",
       "    </tr>\n",
       "    <tr>\n",
       "      <th>20171116</th>\n",
       "      <th>DJIA</th>\n",
       "      <td>23458.35938</td>\n",
       "      <td>23358.24023</td>\n",
       "      <td>NaN</td>\n",
       "    </tr>\n",
       "    <tr>\n",
       "      <th>20171117</th>\n",
       "      <th>DJIA</th>\n",
       "      <td>23358.24023</td>\n",
       "      <td>23430.33008</td>\n",
       "      <td>NaN</td>\n",
       "    </tr>\n",
       "    <tr>\n",
       "      <th>20171120</th>\n",
       "      <th>DJIA</th>\n",
       "      <td>23430.33008</td>\n",
       "      <td>23590.83008</td>\n",
       "      <td>NaN</td>\n",
       "    </tr>\n",
       "    <tr>\n",
       "      <th>20171121</th>\n",
       "      <th>DJIA</th>\n",
       "      <td>23590.83008</td>\n",
       "      <td>23526.17969</td>\n",
       "      <td>NaN</td>\n",
       "    </tr>\n",
       "    <tr>\n",
       "      <th>20171122</th>\n",
       "      <th>DJIA</th>\n",
       "      <td>23526.17969</td>\n",
       "      <td>23557.99023</td>\n",
       "      <td>NaN</td>\n",
       "    </tr>\n",
       "    <tr>\n",
       "      <th>20171124</th>\n",
       "      <th>DJIA</th>\n",
       "      <td>23557.99023</td>\n",
       "      <td>23580.77930</td>\n",
       "      <td>NaN</td>\n",
       "    </tr>\n",
       "    <tr>\n",
       "      <th>20171127</th>\n",
       "      <th>DJIA</th>\n",
       "      <td>23580.77930</td>\n",
       "      <td>23836.71094</td>\n",
       "      <td>NaN</td>\n",
       "    </tr>\n",
       "    <tr>\n",
       "      <th>20171128</th>\n",
       "      <th>DJIA</th>\n",
       "      <td>23836.71094</td>\n",
       "      <td>23940.67969</td>\n",
       "      <td>NaN</td>\n",
       "    </tr>\n",
       "    <tr>\n",
       "      <th>20171129</th>\n",
       "      <th>DJIA</th>\n",
       "      <td>23940.67969</td>\n",
       "      <td>24272.34961</td>\n",
       "      <td>NaN</td>\n",
       "    </tr>\n",
       "    <tr>\n",
       "      <th>20171130</th>\n",
       "      <th>DJIA</th>\n",
       "      <td>24272.34961</td>\n",
       "      <td>NaN</td>\n",
       "      <td>NaN</td>\n",
       "    </tr>\n",
       "  </tbody>\n",
       "</table>\n",
       "</div>"
      ],
      "text/plain": [
       "                        close          T+1         T+30\n",
       "date     company                                       \n",
       "20171018 DJIA     23157.59961  23163.03906  24272.34961\n",
       "20171019 DJIA     23163.03906  23328.63086          NaN\n",
       "20171020 DJIA     23328.63086  23273.96094          NaN\n",
       "20171023 DJIA     23273.96094  23441.75977          NaN\n",
       "20171024 DJIA     23441.75977  23329.46094          NaN\n",
       "20171025 DJIA     23329.46094  23400.85938          NaN\n",
       "20171026 DJIA     23400.85938  23434.18945          NaN\n",
       "20171027 DJIA     23434.18945  23348.74023          NaN\n",
       "20171030 DJIA     23348.74023  23377.24023          NaN\n",
       "20171031 DJIA     23377.24023  23435.00977          NaN\n",
       "20171101 DJIA     23435.00977  23516.25977          NaN\n",
       "20171102 DJIA     23516.25977  23539.18945          NaN\n",
       "20171103 DJIA     23539.18945  23548.41992          NaN\n",
       "20171106 DJIA     23548.41992  23557.23047          NaN\n",
       "20171107 DJIA     23557.23047  23563.35938          NaN\n",
       "20171108 DJIA     23563.35938  23461.93945          NaN\n",
       "20171109 DJIA     23461.93945  23422.21094          NaN\n",
       "20171110 DJIA     23422.21094  23439.69922          NaN\n",
       "20171113 DJIA     23439.69922  23409.47070          NaN\n",
       "20171114 DJIA     23409.47070  23271.27930          NaN\n",
       "20171115 DJIA     23271.27930  23458.35938          NaN\n",
       "20171116 DJIA     23458.35938  23358.24023          NaN\n",
       "20171117 DJIA     23358.24023  23430.33008          NaN\n",
       "20171120 DJIA     23430.33008  23590.83008          NaN\n",
       "20171121 DJIA     23590.83008  23526.17969          NaN\n",
       "20171122 DJIA     23526.17969  23557.99023          NaN\n",
       "20171124 DJIA     23557.99023  23580.77930          NaN\n",
       "20171127 DJIA     23580.77930  23836.71094          NaN\n",
       "20171128 DJIA     23836.71094  23940.67969          NaN\n",
       "20171129 DJIA     23940.67969  24272.34961          NaN\n",
       "20171130 DJIA     24272.34961          NaN          NaN"
      ]
     },
     "execution_count": 12,
     "metadata": {},
     "output_type": "execute_result"
    }
   ],
   "source": [
    "# get y value for close(T+1) and close(T+30)\n",
    "_tmp = djia\n",
    "djia['T+1'] = _tmp['close'].shift(-1)\n",
    "djia['T+30'] = _tmp['close'].shift(-30)\n",
    "djia.tail(31)   "
   ]
  },
  {
   "cell_type": "code",
   "execution_count": 13,
   "metadata": {},
   "outputs": [
    {
     "data": {
      "text/html": [
       "<div>\n",
       "<style>\n",
       "    .dataframe thead tr:only-child th {\n",
       "        text-align: right;\n",
       "    }\n",
       "\n",
       "    .dataframe thead th {\n",
       "        text-align: left;\n",
       "    }\n",
       "\n",
       "    .dataframe tbody tr th {\n",
       "        vertical-align: top;\n",
       "    }\n",
       "</style>\n",
       "<table border=\"1\" class=\"dataframe\">\n",
       "  <thead>\n",
       "    <tr style=\"text-align: right;\">\n",
       "      <th></th>\n",
       "      <th></th>\n",
       "      <th>open</th>\n",
       "      <th>high</th>\n",
       "      <th>low</th>\n",
       "      <th>close</th>\n",
       "      <th>volume</th>\n",
       "    </tr>\n",
       "    <tr>\n",
       "      <th>date</th>\n",
       "      <th>company</th>\n",
       "      <th></th>\n",
       "      <th></th>\n",
       "      <th></th>\n",
       "      <th></th>\n",
       "      <th></th>\n",
       "    </tr>\n",
       "  </thead>\n",
       "  <tbody>\n",
       "    <tr>\n",
       "      <th rowspan=\"5\" valign=\"top\">20160801</th>\n",
       "      <th>3M</th>\n",
       "      <td>177.080002</td>\n",
       "      <td>178.539993</td>\n",
       "      <td>177.080002</td>\n",
       "      <td>178.289993</td>\n",
       "      <td>1598400</td>\n",
       "    </tr>\n",
       "    <tr>\n",
       "      <th>American Express</th>\n",
       "      <td>64.489998</td>\n",
       "      <td>64.739998</td>\n",
       "      <td>63.959999</td>\n",
       "      <td>64.129997</td>\n",
       "      <td>2913900</td>\n",
       "    </tr>\n",
       "    <tr>\n",
       "      <th>Apple</th>\n",
       "      <td>104.410004</td>\n",
       "      <td>106.150002</td>\n",
       "      <td>104.410004</td>\n",
       "      <td>106.050003</td>\n",
       "      <td>38167900</td>\n",
       "    </tr>\n",
       "    <tr>\n",
       "      <th>Boeing</th>\n",
       "      <td>133.210007</td>\n",
       "      <td>134.229996</td>\n",
       "      <td>132.699997</td>\n",
       "      <td>133.210007</td>\n",
       "      <td>3067300</td>\n",
       "    </tr>\n",
       "    <tr>\n",
       "      <th>Caterpillar</th>\n",
       "      <td>82.760002</td>\n",
       "      <td>82.879997</td>\n",
       "      <td>81.529999</td>\n",
       "      <td>81.949997</td>\n",
       "      <td>3377100</td>\n",
       "    </tr>\n",
       "  </tbody>\n",
       "</table>\n",
       "</div>"
      ],
      "text/plain": [
       "                                 open        high         low       close  \\\n",
       "date     company                                                            \n",
       "20160801 3M                177.080002  178.539993  177.080002  178.289993   \n",
       "         American Express   64.489998   64.739998   63.959999   64.129997   \n",
       "         Apple             104.410004  106.150002  104.410004  106.050003   \n",
       "         Boeing            133.210007  134.229996  132.699997  133.210007   \n",
       "         Caterpillar        82.760002   82.879997   81.529999   81.949997   \n",
       "\n",
       "                             volume  \n",
       "date     company                     \n",
       "20160801 3M                 1598400  \n",
       "         American Express   2913900  \n",
       "         Apple             38167900  \n",
       "         Boeing             3067300  \n",
       "         Caterpillar        3377100  "
      ]
     },
     "execution_count": 13,
     "metadata": {},
     "output_type": "execute_result"
    }
   ],
   "source": [
    "# shift training data 30 day with 30 stocks + 1 DJIA\n",
    "# Get Total data set from Aug 1, 2016 to Oct 18, 2017\n",
    "total_row = len(X)\n",
    "data_range = total_row -(30*31)\n",
    "_tmpX = X.head(data_range)\n",
    "_tmpX.head(5)\n",
    "_tmpX.tail(5)\n",
    "X = _tmpX\n",
    "X.head(5)"
   ]
  },
  {
   "cell_type": "code",
   "execution_count": 14,
   "metadata": {},
   "outputs": [
    {
     "data": {
      "text/html": [
       "<div>\n",
       "<style>\n",
       "    .dataframe thead tr:only-child th {\n",
       "        text-align: right;\n",
       "    }\n",
       "\n",
       "    .dataframe thead th {\n",
       "        text-align: left;\n",
       "    }\n",
       "\n",
       "    .dataframe tbody tr th {\n",
       "        vertical-align: top;\n",
       "    }\n",
       "</style>\n",
       "<table border=\"1\" class=\"dataframe\">\n",
       "  <thead>\n",
       "    <tr style=\"text-align: right;\">\n",
       "      <th></th>\n",
       "      <th></th>\n",
       "      <th>close</th>\n",
       "      <th>T+1</th>\n",
       "      <th>T+30</th>\n",
       "    </tr>\n",
       "    <tr>\n",
       "      <th>date</th>\n",
       "      <th>company</th>\n",
       "      <th></th>\n",
       "      <th></th>\n",
       "      <th></th>\n",
       "    </tr>\n",
       "  </thead>\n",
       "  <tbody>\n",
       "    <tr>\n",
       "      <th>20171012</th>\n",
       "      <th>DJIA</th>\n",
       "      <td>22841.00977</td>\n",
       "      <td>22871.72070</td>\n",
       "      <td>23557.99023</td>\n",
       "    </tr>\n",
       "    <tr>\n",
       "      <th>20171013</th>\n",
       "      <th>DJIA</th>\n",
       "      <td>22871.72070</td>\n",
       "      <td>22956.96094</td>\n",
       "      <td>23580.77930</td>\n",
       "    </tr>\n",
       "    <tr>\n",
       "      <th>20171016</th>\n",
       "      <th>DJIA</th>\n",
       "      <td>22956.96094</td>\n",
       "      <td>22997.43945</td>\n",
       "      <td>23836.71094</td>\n",
       "    </tr>\n",
       "    <tr>\n",
       "      <th>20171017</th>\n",
       "      <th>DJIA</th>\n",
       "      <td>22997.43945</td>\n",
       "      <td>23157.59961</td>\n",
       "      <td>23940.67969</td>\n",
       "    </tr>\n",
       "    <tr>\n",
       "      <th>20171018</th>\n",
       "      <th>DJIA</th>\n",
       "      <td>23157.59961</td>\n",
       "      <td>23163.03906</td>\n",
       "      <td>24272.34961</td>\n",
       "    </tr>\n",
       "  </tbody>\n",
       "</table>\n",
       "</div>"
      ],
      "text/plain": [
       "                        close          T+1         T+30\n",
       "date     company                                       \n",
       "20171012 DJIA     22841.00977  22871.72070  23557.99023\n",
       "20171013 DJIA     22871.72070  22956.96094  23580.77930\n",
       "20171016 DJIA     22956.96094  22997.43945  23836.71094\n",
       "20171017 DJIA     22997.43945  23157.59961  23940.67969\n",
       "20171018 DJIA     23157.59961  23163.03906  24272.34961"
      ]
     },
     "execution_count": 14,
     "metadata": {},
     "output_type": "execute_result"
    }
   ],
   "source": [
    "# drop NaN rows.\n",
    "djia = djia.dropna()\n",
    "# X = X.dropna()\n",
    "djia.tail(5)\n",
    "# X.tail(5)"
   ]
  },
  {
   "cell_type": "code",
   "execution_count": 15,
   "metadata": {},
   "outputs": [
    {
     "data": {
      "text/plain": [
       "[['0', '0'],\n",
       " ['1', '0'],\n",
       " ['0', '0'],\n",
       " ['1', '0'],\n",
       " ['0', '0'],\n",
       " ['1', '0'],\n",
       " ['0', '0'],\n",
       " ['1', '0'],\n",
       " ['0', '0'],\n",
       " ['1', '0']]"
      ]
     },
     "execution_count": 15,
     "metadata": {},
     "output_type": "execute_result"
    }
   ],
   "source": [
    "\n",
    "# Calculate the trend on T+1 and T+30\n",
    "y = []\n",
    "\n",
    "for index, row in djia.iterrows():\n",
    "    _tmp = []\n",
    "    if (row['T+1']-row['close'] > 0):\n",
    "        _tmp.append('1')\n",
    "    else:\n",
    "        _tmp.append('0')\n",
    "    if (row['T+30']-row['close'] > 0):\n",
    "        _tmp.append('1')\n",
    "    else:\n",
    "        _tmp.append('0')   \n",
    "    y.append(_tmp)\n",
    "    \n",
    "#djia.head(5)\n",
    "y[0:10]"
   ]
  },
  {
   "cell_type": "markdown",
   "metadata": {},
   "source": [
    "## Remove company name from dataset"
   ]
  },
  {
   "cell_type": "code",
   "execution_count": 16,
   "metadata": {},
   "outputs": [
    {
     "data": {
      "text/plain": [
       "(9548, 6)"
      ]
     },
     "execution_count": 16,
     "metadata": {},
     "output_type": "execute_result"
    }
   ],
   "source": [
    "from sklearn.model_selection import train_test_split\n",
    "\n",
    "x = X.reset_index()\n",
    "x = x.as_matrix()\n",
    "x = np.delete(x, np.s_[1:2], axis=1) #Remove company\n",
    "x.shape\n",
    "#x\n",
    "\n",
    "#############\n",
    "# data = x.reshape(308, 31, 6)\n",
    "# data\n",
    "# y = np.array(y)\n",
    "\n",
    "# # # data.shape\n",
    "# _X_train, X_test, _y_train, y_test = train_test_split(data, y, test_size = 0.072, shuffle = False, stratify = None)\n",
    "# _X_train.shape"
   ]
  },
  {
   "cell_type": "markdown",
   "metadata": {},
   "source": [
    "## Standardization¶"
   ]
  },
  {
   "cell_type": "code",
   "execution_count": 17,
   "metadata": {},
   "outputs": [
    {
     "data": {
      "text/plain": [
       "array([[ 0.        ,  0.00668093,  0.00671495,  0.00668794,  0.00671332,\n",
       "         0.00164407],\n",
       "       [ 0.        ,  0.00179933,  0.00179915,  0.0017833 ,  0.00177872,\n",
       "         0.00382692],\n",
       "       [ 0.        ,  0.00353016,  0.00358793,  0.00353713,  0.00359072,\n",
       "         0.06232498],\n",
       "       ..., \n",
       "       [ 1.        ,  0.00366933,  0.00366784,  0.00366937,  0.00366637,\n",
       "         0.00698529],\n",
       "       [ 1.        ,  0.00273845,  0.0027335 ,  0.00273934,  0.00273357,\n",
       "         0.00807182],\n",
       "       [ 1.        ,  0.00326784,  0.00325704,  0.00323969,  0.00325357,\n",
       "         0.00795931]])"
      ]
     },
     "execution_count": 17,
     "metadata": {},
     "output_type": "execute_result"
    }
   ],
   "source": [
    "from sklearn.preprocessing import MinMaxScaler\n",
    "mmc = MinMaxScaler(feature_range=(0,1)) # default (0, 1) for sigmoid function\n",
    "mmc.fit(x)\n",
    "x_std = mmc.transform(x)\n",
    "x_std"
   ]
  },
  {
   "cell_type": "markdown",
   "metadata": {},
   "source": [
    "###  Reshape Data to time, companies+DJIA, and 5 features after Standarlization"
   ]
  },
  {
   "cell_type": "code",
   "execution_count": 18,
   "metadata": {
    "collapsed": true
   },
   "outputs": [],
   "source": [
    "data = x_std.reshape(308, 31, 6)\n",
    "data\n",
    "y = np.array(y)\n",
    "\n",
    "# # data.shape\n",
    "_X_train, X_test_std, _y_train, y_test = train_test_split(data, y, test_size = 0.072, shuffle = False, stratify = None)\n",
    "# _X_train"
   ]
  },
  {
   "cell_type": "markdown",
   "metadata": {},
   "source": [
    "## Prepare training & validation set"
   ]
  },
  {
   "cell_type": "code",
   "execution_count": 19,
   "metadata": {},
   "outputs": [],
   "source": [
    "from sklearn.model_selection import train_test_split\n",
    "# Create training and validation sets\n",
    "X_train_std, X_validate_std, y_train, y_validate = train_test_split(_X_train, _y_train, test_size = 0.115, shuffle = False, stratify = None)\n",
    "# X_validate_std[1]"
   ]
  },
  {
   "cell_type": "code",
   "execution_count": 20,
   "metadata": {},
   "outputs": [
    {
     "data": {
      "text/plain": [
       "(252, 31, 6)"
      ]
     },
     "execution_count": 20,
     "metadata": {},
     "output_type": "execute_result"
    }
   ],
   "source": [
    "X_train_std.shape"
   ]
  },
  {
   "cell_type": "markdown",
   "metadata": {},
   "source": [
    "## Build model: LSTM for this prediction"
   ]
  },
  {
   "cell_type": "markdown",
   "metadata": {},
   "source": [
    "### LSTM Model - stateful"
   ]
  },
  {
   "cell_type": "code",
   "execution_count": 21,
   "metadata": {
    "collapsed": true
   },
   "outputs": [],
   "source": [
    "from sklearn.model_selection import StratifiedShuffleSplit\n",
    "from sklearn.model_selection import GridSearchCV\n",
    "from sklearn.metrics import mean_squared_error\n",
    "from keras.utils import np_utils\n",
    "from keras.models import Sequential\n",
    "from keras.layers import Dense, Dropout, Activation, Flatten, TimeDistributed, LSTM, GRU\n",
    "from keras.callbacks import EarlyStopping, ReduceLROnPlateau, ModelCheckpoint, Callback\n",
    "\n",
    "def create_LSTM_model(optimizer='adam', kernel_init='normal', recurrent_init='normal', bias_init='zero', batch_size=1):\n",
    "    model = Sequential()\n",
    "    #input method: batch_input_shape=(batch, timesteps/lags, features)\n",
    "    #  or input_shape=(timesteps/lags, features) , model.fit(X, y, epochs=n, batch_size=b, verbose=2)\n",
    "    model.add(LSTM(128, batch_input_shape=(batch_size, 31, 6), return_sequences=True, activation='sigmoid', recurrent_activation='hard_sigmoid', use_bias=True, \n",
    "                   kernel_initializer=kernel_init, recurrent_initializer=recurrent_init, bias_initializer=bias_init,\n",
    "                   unit_forget_bias=True, kernel_regularizer=None, recurrent_regularizer=None, bias_regularizer=None, \n",
    "                   activity_regularizer=None, kernel_constraint=None, recurrent_constraint=None, bias_constraint=None, \n",
    "                   dropout=0.0, recurrent_dropout=0.0, implementation=1, return_state=False, \n",
    "                   go_backwards=False, stateful=False, unroll=False))\n",
    "    model.add(Dropout(0.2))\n",
    "    model.add(LSTM(64, return_sequences=True, activation='sigmoid', recurrent_activation='hard_sigmoid', use_bias=True, \n",
    "                   kernel_initializer=kernel_init, recurrent_initializer=recurrent_init, bias_initializer=bias_init, unit_forget_bias=True, \n",
    "                   kernel_regularizer=None, recurrent_regularizer=None, bias_regularizer=None, activity_regularizer=None, \n",
    "                   kernel_constraint=None, recurrent_constraint=None, bias_constraint=None, dropout=0.0, recurrent_dropout=0.0, \n",
    "                   implementation=1, return_state=False, go_backwards=False, stateful=False, unroll=False))\n",
    "    model.add(Dropout(0.2))\n",
    "    # The last layer of LSTM, return_sequences = False\n",
    "    model.add(LSTM(32, return_state=False, activation='sigmoid', recurrent_activation='hard_sigmoid', use_bias=True, \n",
    "                   kernel_initializer=kernel_init, recurrent_initializer=recurrent_init, bias_initializer=bias_init, unit_forget_bias=True, \n",
    "                   kernel_regularizer=None, recurrent_regularizer=None, bias_regularizer=None, activity_regularizer=None, \n",
    "                   kernel_constraint=None, recurrent_constraint=None, bias_constraint=None, dropout=0.0, recurrent_dropout=0.0, \n",
    "                   implementation=1, return_sequences=False, go_backwards=False, stateful=False, unroll=False))\n",
    "    model.add(Dropout(0.2))    \n",
    "    model.add(Dense(2, activation='sigmoid', kernel_initializer=kernel_init))\n",
    "    model.compile(optimizer=optimizer, loss='binary_crossentropy', metrics=['accuracy'])\n",
    "    return model"
   ]
  },
  {
   "cell_type": "code",
   "execution_count": 22,
   "metadata": {},
   "outputs": [
    {
     "data": {
      "text/plain": [
       "(252, 31, 6)"
      ]
     },
     "execution_count": 22,
     "metadata": {},
     "output_type": "execute_result"
    }
   ],
   "source": [
    "X_3D_train_std = X_train_std\n",
    "X_3D_train_std.shape"
   ]
  },
  {
   "cell_type": "markdown",
   "metadata": {},
   "source": [
    "## Train the model"
   ]
  },
  {
   "cell_type": "code",
   "execution_count": 35,
   "metadata": {},
   "outputs": [
    {
     "name": "stdout",
     "output_type": "stream",
     "text": [
      "Train on 252 samples, validate on 33 samples\n",
      "Epoch 1/20\n",
      "252/252 [==============================] - 34s - loss: 0.6499 - acc: 0.6210 - val_loss: 0.4589 - val_acc: 0.8485\n",
      "Epoch 2/20\n",
      "252/252 [==============================] - 15s - loss: 0.6113 - acc: 0.6488 - val_loss: 0.4272 - val_acc: 0.6515\n",
      "Epoch 3/20\n",
      "252/252 [==============================] - 12s - loss: 0.6176 - acc: 0.6349 - val_loss: 0.4195 - val_acc: 0.8485\n",
      "Epoch 4/20\n",
      "252/252 [==============================] - 12s - loss: 0.6266 - acc: 0.6349 - val_loss: 0.4217 - val_acc: 0.8485\n",
      "Epoch 5/20\n",
      "252/252 [==============================] - 11s - loss: 0.6278 - acc: 0.6131 - val_loss: 0.4242 - val_acc: 0.8485\n",
      "Epoch 6/20\n",
      "250/252 [============================>.] - ETA: 0s - loss: 0.6251 - acc: 0.6340\n",
      "Epoch 00005: reducing learning rate to 0.00020000000949949026.\n",
      "252/252 [==============================] - 12s - loss: 0.6238 - acc: 0.6329 - val_loss: 0.4255 - val_acc: 0.8485\n",
      "Epoch 7/20\n",
      "252/252 [==============================] - 12s - loss: 0.6179 - acc: 0.6290 - val_loss: 0.4302 - val_acc: 0.8485\n",
      "Epoch 00006: early stopping\n"
     ]
    },
    {
     "data": {
      "text/plain": [
       "<keras.callbacks.History at 0x243c7671f60>"
      ]
     },
     "execution_count": 35,
     "metadata": {},
     "output_type": "execute_result"
    }
   ],
   "source": [
    "# Parameters\n",
    "from keras.optimizers import Adam\n",
    "# adam = Adam(lr=0.001, beta_1=0.9, beta_2=0.999, epsilon=1e-08, decay=0.0) #default\n",
    "adam = Adam(lr=0.001, beta_1=0.9, beta_2=0.999, epsilon=0.01, decay=0.0)\n",
    "optimizers = adam\n",
    "kernel_init = 'glorot_uniform'\n",
    "recurrent_init = 'glorot_uniform'\n",
    "bias_init ='zero'\n",
    "epochs = 20\n",
    "batches = 1\n",
    "\n",
    "model_LSTM = create_LSTM_model(optimizer=optimizers, batch_size=batches, kernel_init=kernel_init, \n",
    "                 recurrent_init=recurrent_init, bias_init=bias_init)\n",
    "model_LSTM.fit(X_3D_train_std, y_train,\n",
    "          epochs=epochs,\n",
    "          batch_size=batches,\n",
    "          shuffle=False,\n",
    "          validation_data=(X_validate_std, y_validate),\n",
    "          callbacks=[EarlyStopping(monitor='val_loss', min_delta=0.001, patience=3, verbose=1, mode='auto'),\n",
    "          ReduceLROnPlateau(monitor='val_loss', factor=0.2, patience=2, min_lr=0.0001, verbose=1, mode='auto')])"
   ]
  },
  {
   "cell_type": "markdown",
   "metadata": {},
   "source": [
    "### Save the model"
   ]
  },
  {
   "cell_type": "code",
   "execution_count": 25,
   "metadata": {
    "collapsed": true
   },
   "outputs": [],
   "source": [
    "import datetime\n",
    "model_filename = 'simple-lstm_trained_model'+datetime.datetime.now().strftime(\"%Y%m%d%H%M\")+'.h5'\n",
    "model_LSTM.save(model_filename)"
   ]
  },
  {
   "cell_type": "markdown",
   "metadata": {},
   "source": [
    "### Load previous trained model if required."
   ]
  },
  {
   "cell_type": "code",
   "execution_count": 34,
   "metadata": {
    "collapsed": true
   },
   "outputs": [],
   "source": [
    "from keras.models import load_model\n",
    "model_LSTM = load_model('simple-lstm_trained_model201712050733-.h5')"
   ]
  },
  {
   "cell_type": "markdown",
   "metadata": {
    "collapsed": true
   },
   "source": [
    "## Test on testing set"
   ]
  },
  {
   "cell_type": "code",
   "execution_count": 36,
   "metadata": {
    "collapsed": true
   },
   "outputs": [],
   "source": [
    "y_result = model_LSTM.predict(X_test_std, batch_size=batches)"
   ]
  },
  {
   "cell_type": "markdown",
   "metadata": {},
   "source": [
    "## 10. Results without Social Info: T+1 growth up Pr(51.4%), T+30 growth up Pr(83.7%) "
   ]
  },
  {
   "cell_type": "code",
   "execution_count": 37,
   "metadata": {},
   "outputs": [
    {
     "data": {
      "text/plain": [
       "array([[ 0.51392549,  0.83705753],\n",
       "       [ 0.51392549,  0.83705759],\n",
       "       [ 0.51392549,  0.83705753],\n",
       "       [ 0.51392537,  0.83705747],\n",
       "       [ 0.51392549,  0.83705753],\n",
       "       [ 0.51392555,  0.83705747],\n",
       "       [ 0.51392549,  0.83705747],\n",
       "       [ 0.51392549,  0.83705747],\n",
       "       [ 0.51392555,  0.83705747],\n",
       "       [ 0.51392561,  0.83705747],\n",
       "       [ 0.51392573,  0.83705717],\n",
       "       [ 0.51392573,  0.83705717],\n",
       "       [ 0.51392567,  0.83705717],\n",
       "       [ 0.51392561,  0.83705729],\n",
       "       [ 0.51392567,  0.83705729],\n",
       "       [ 0.51392573,  0.83705729],\n",
       "       [ 0.51392591,  0.83705729],\n",
       "       [ 0.51392585,  0.83705729],\n",
       "       [ 0.51392597,  0.83705717],\n",
       "       [ 0.51392579,  0.83705729],\n",
       "       [ 0.51392573,  0.83705729],\n",
       "       [ 0.51392573,  0.83705729],\n",
       "       [ 0.51392573,  0.83705729]], dtype=float32)"
      ]
     },
     "execution_count": 37,
     "metadata": {},
     "output_type": "execute_result"
    }
   ],
   "source": [
    "y_result"
   ]
  },
  {
   "cell_type": "code",
   "execution_count": 59,
   "metadata": {},
   "outputs": [
    {
     "data": {
      "text/plain": [
       "array([['1', '1'],\n",
       "       ['1', '1'],\n",
       "       ['0', '1'],\n",
       "       ['0', '1'],\n",
       "       ['0', '1'],\n",
       "       ['0', '1'],\n",
       "       ['1', '1'],\n",
       "       ['1', '1'],\n",
       "       ['1', '1'],\n",
       "       ['1', '1'],\n",
       "       ['1', '1'],\n",
       "       ['1', '1'],\n",
       "       ['1', '1'],\n",
       "       ['0', '1'],\n",
       "       ['0', '1'],\n",
       "       ['1', '1'],\n",
       "       ['1', '1'],\n",
       "       ['0', '1'],\n",
       "       ['1', '1'],\n",
       "       ['1', '1'],\n",
       "       ['1', '1'],\n",
       "       ['1', '1'],\n",
       "       ['1', '1']], \n",
       "      dtype='<U1')"
      ]
     },
     "execution_count": 59,
     "metadata": {},
     "output_type": "execute_result"
    }
   ],
   "source": [
    "y_test"
   ]
  },
  {
   "cell_type": "code",
   "execution_count": 38,
   "metadata": {},
   "outputs": [
    {
     "name": "stdout",
     "output_type": "stream",
     "text": [
      "T+1 report\n",
      "              precision    recall  f1-score   support\n",
      "\n",
      "          0       0.00      0.00      0.00         0\n",
      "          1       1.00      0.70      0.82        23\n",
      "\n",
      "avg / total       1.00      0.70      0.82        23\n",
      "\n",
      "T+30 report\n",
      "              precision    recall  f1-score   support\n",
      "\n",
      "          1       1.00      1.00      1.00        23\n",
      "\n",
      "avg / total       1.00      1.00      1.00        23\n",
      "\n"
     ]
    }
   ],
   "source": [
    "from sklearn import metrics\n",
    "threshold = 0.5\n",
    "y_result = np.where(y_result >= threshold, 1, 0)\n",
    "\n",
    "t1r = list(map(int,y_result[:,0]))\n",
    "t30r = list(map(int,y_result[:,1]))\n",
    "t1t = list(map(int,y_test[:,0]))\n",
    "t30t = list(map(int,y_test[:,1]))\n",
    "\n",
    "print('T+1 report\\n %s'%(metrics.classification_report(t1r, t1t)))\n",
    "print('T+30 report\\n %s'%(metrics.classification_report(t30r, t30t)))"
   ]
  },
  {
   "cell_type": "code",
   "execution_count": 39,
   "metadata": {},
   "outputs": [
    {
     "name": "stdout",
     "output_type": "stream",
     "text": [
      "Confusion matrix, without normalization\n",
      "[[ 0  7]\n",
      " [ 0 16]]\n"
     ]
    },
    {
     "data": {
      "image/png": "[encoded data removed]",
      "text/plain": [
       "<matplotlib.figure.Figure at 0x243c79b4a20>"
      ]
     },
     "metadata": {},
     "output_type": "display_data"
    }
   ],
   "source": [
    "import itertools\n",
    "import numpy as np\n",
    "import matplotlib.pyplot as plt\n",
    "\n",
    "from sklearn.metrics import confusion_matrix\n",
    "\n",
    "\n",
    "\n",
    "def plot_confusion_matrix(cm, classes,\n",
    "                          normalize=False,\n",
    "                          title='Confusion matrix',\n",
    "                          cmap=plt.cm.Blues):\n",
    "    \"\"\"\n",
    "    This function prints and plots the confusion matrix.\n",
    "    Normalization can be applied by setting `normalize=True`.\n",
    "    \"\"\"\n",
    "    if normalize:\n",
    "        cm = cm.astype('float') / cm.sum(axis=1)[:, np.newaxis]\n",
    "        print(\"Normalized confusion matrix\")\n",
    "    else:\n",
    "        print('Confusion matrix, without normalization')\n",
    "\n",
    "    print(cm)\n",
    "\n",
    "    plt.imshow(cm, interpolation='nearest', cmap=cmap)\n",
    "    plt.title(title)\n",
    "    plt.colorbar()\n",
    "    tick_marks = np.arange(len(classes))\n",
    "    plt.xticks(tick_marks, classes, rotation=45)\n",
    "    plt.yticks(tick_marks, classes)\n",
    "\n",
    "    fmt = '.2f' if normalize else 'd'\n",
    "    thresh = cm.max() / 2.\n",
    "    for i, j in itertools.product(range(cm.shape[0]), range(cm.shape[1])):\n",
    "        plt.text(j, i, format(cm[i, j], fmt),\n",
    "                 horizontalalignment=\"center\",\n",
    "                 color=\"white\" if cm[i, j] > thresh else \"black\")\n",
    "\n",
    "    plt.tight_layout()\n",
    "    plt.ylabel('True label')\n",
    "    plt.xlabel('Predicted label')\n",
    "\n",
    "class_names = ['0','1']\n",
    "# Compute confusion matrix\n",
    "cnf_matrix = confusion_matrix(t1t, t1r)\n",
    "np.set_printoptions(precision=2)\n",
    "\n",
    "# Plot non-normalized confusion matrix\n",
    "plt.figure()\n",
    "plot_confusion_matrix(cnf_matrix, classes=class_names,\n",
    "                      title='Confusion matrix, without normalization')\n",
    "\n",
    "plt.show()"
   ]
  },
  {
   "cell_type": "code",
   "execution_count": null,
   "metadata": {
    "collapsed": true
   },
   "outputs": [],
   "source": []
  },
  {
   "cell_type": "code",
   "execution_count": null,
   "metadata": {
    "collapsed": true
   },
   "outputs": [],
   "source": []
  },
  {
   "cell_type": "code",
   "execution_count": null,
   "metadata": {
    "collapsed": true
   },
   "outputs": [],
   "source": []
  },
  {
   "cell_type": "code",
   "execution_count": null,
   "metadata": {
    "collapsed": true
   },
   "outputs": [],
   "source": []
  }
 ],
 "metadata": {
  "kernelspec": {
   "display_name": "Python 3",
   "language": "python",
   "name": "python3"
  },
  "language_info": {
   "codemirror_mode": {
    "name": "ipython",
    "version": 3
   },
   "file_extension": ".py",
   "mimetype": "text/x-python",
   "name": "python",
   "nbconvert_exporter": "python",
   "pygments_lexer": "ipython3",
   "version": "3.6.3"
  }
 },
 "nbformat": 4,
 "nbformat_minor": 2
}
