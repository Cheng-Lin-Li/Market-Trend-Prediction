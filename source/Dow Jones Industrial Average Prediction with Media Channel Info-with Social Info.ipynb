{
 "cells": [
  {
   "cell_type": "markdown",
   "metadata": {},
   "source": [
    "# Dow Jones Industrial Average (DJIA) Prediction\n",
    "## 1. Given: data from Aug 1, 2016 to Nov 30, 2017 with DJIA, 30 Companies price & social media likes\n",
    "    12 months Date(T), Company Name, Stock Price, Facebook likes, Facebook disklikes, twitter likes, DJIA\n",
    "    Facebook likes = ('haha')+('like')+('love')+('wow');\n",
    "    Facebook bads = ('sad')+('angry');\n",
    "## Task:\n",
    "###    Given data from Aug 1, 2016 to Nov 30, 2017\n",
    "###    Split data to\n",
    "    1. Training set from Aug 1, 2016 to Jul 31, 2017\n",
    "    2. Validation set from Aug 1, 2017 to Sep 17, 2017\n",
    "    \n",
    "## 2. To Predict T+1 and T+30 of DJIA  in next 1 months (Sep 18, 2017 to Oct 18, 2017).\n",
    "    \n",
    "## Data Sources:\n",
    "### a. Facebook Likes, Dislike\n",
    "### b. Twitter Likes\n",
    "### c. Yahoo Finance 30 companies stock price + DJIA\n",
    "\n",
    "for 30 companies\n",
    "format=>No. company: facebook id\n",
    "1. 3M: 3m\n",
    "2. American Express: AmericanExpressUS\n",
    "3. Apple: AppleInc.HD\n",
    "4. Boeing: Boeing\n",
    "5. Caterpillar: caterpillar\n",
    "6. Chevron: Chevron\n",
    "7. Cisco Systems: Cisco\n",
    "8. Coca-Cola: CocaColaUnitedStates\n",
    "9. DowDuPont: dupontco\n",
    "10. ExxonMobil: ExxonMobil\n",
    "11. General Electric: GE\n",
    "12. Goldman Sachs:goldmansachs\n",
    "13. IBM: ibm\n",
    "14. Intel: Intel\n",
    "15. Johnson & Johnson: jnj\n",
    "16. JPMorgan Chase: jpmorganchase\n",
    "17. McDonald's: McDonaldsUS\n",
    "18. Merck: MerckInvents\n",
    "19. Microsoft: Microsoft\n",
    "20. Nike: Nike, nikesportswear\n",
    "21. Pfizer: Pfizer\n",
    "22. Procter & Gamble: proctergamble\n",
    "23. The Home Depot: homedepot\n",
    "24. Travelers: travelers\n",
    "25. United Technologies: unitedtechnologiescorp\n",
    "26. UnitedHealth Group: unitedhealthgroup\n",
    "27. Verizon: Verizon\n",
    "28. Visa: VisaUnitedStates\n",
    "29. Walmart: Walmart\n",
    "30. Walt Disney: Disney\n",
    "\n",
    "Query target string: 3m, AmericanExpressUS, AppleInc.HD, Boeing, caterpillar, Chevron, Cisco, CocaColaUnitedStates, dupontco, ExxonMobil, GE, goldmansachs, ibm, Intel, jnj, jpmorganchase, McDonaldsUS, MerckInvents, Microsoft, Nike, nikesportswear, Pfizer, proctergamble, homedepot, travelers, unitedtechnologiescorp, unitedhealthgroup, Verizon, VisaUnitedStates, Walmart, Disney\n"
   ]
  },
  {
   "cell_type": "code",
   "execution_count": 3,
   "metadata": {
    "collapsed": true
   },
   "outputs": [],
   "source": [
    "import datetime as dt\n",
    "import pandas as pd\n",
    "import numpy as np\n",
    "import matplotlib.pyplot as plt\n",
    "\n",
    "%matplotlib inline"
   ]
  },
  {
   "cell_type": "code",
   "execution_count": 4,
   "metadata": {
    "collapsed": true
   },
   "outputs": [],
   "source": [
    "import warnings\n",
    "warnings.filterwarnings('ignore')"
   ]
  },
  {
   "cell_type": "markdown",
   "metadata": {},
   "source": [
    "## Read training and test data"
   ]
  },
  {
   "cell_type": "code",
   "execution_count": 5,
   "metadata": {
    "collapsed": true
   },
   "outputs": [],
   "source": [
    "dataset = pd.read_csv('integrated_data.csv', encoding = \"utf-8\", parse_dates=[\"date\"],\n",
    "date_parser=lambda x: pd.to_datetime(x, format=\"%Y%m%d %H:%M:%S\"))\n",
    "# convert date to int\n",
    "dataset['date']=dataset['date'].dt.strftime('%Y%m%d')\n",
    "dataset.set_index(['date', 'company'], inplace=True)\n",
    "dataset = dataset.sort_index()"
   ]
  },
  {
   "cell_type": "code",
   "execution_count": 6,
   "metadata": {
    "collapsed": true
   },
   "outputs": [],
   "source": [
    "?dataset.head(5)"
   ]
  },
  {
   "cell_type": "markdown",
   "metadata": {},
   "source": [
    "## 3. Select the features for the model.\n",
    "### stock open, close, high, low price, trade volumne, facebook likes, facebook dislike, twitte likes"
   ]
  },
  {
   "cell_type": "code",
   "execution_count": 7,
   "metadata": {},
   "outputs": [
    {
     "data": {
      "text/html": [
       "<div>\n",
       "<style>\n",
       "    .dataframe thead tr:only-child th {\n",
       "        text-align: right;\n",
       "    }\n",
       "\n",
       "    .dataframe thead th {\n",
       "        text-align: left;\n",
       "    }\n",
       "\n",
       "    .dataframe tbody tr th {\n",
       "        vertical-align: top;\n",
       "    }\n",
       "</style>\n",
       "<table border=\"1\" class=\"dataframe\">\n",
       "  <thead>\n",
       "    <tr style=\"text-align: right;\">\n",
       "      <th></th>\n",
       "      <th></th>\n",
       "      <th>open</th>\n",
       "      <th>high</th>\n",
       "      <th>low</th>\n",
       "      <th>close</th>\n",
       "      <th>volume</th>\n",
       "      <th>fblikes</th>\n",
       "      <th>fbdislikes</th>\n",
       "      <th>twittelikes</th>\n",
       "    </tr>\n",
       "    <tr>\n",
       "      <th>date</th>\n",
       "      <th>company</th>\n",
       "      <th></th>\n",
       "      <th></th>\n",
       "      <th></th>\n",
       "      <th></th>\n",
       "      <th></th>\n",
       "      <th></th>\n",
       "      <th></th>\n",
       "      <th></th>\n",
       "    </tr>\n",
       "  </thead>\n",
       "  <tbody>\n",
       "    <tr>\n",
       "      <th rowspan=\"5\" valign=\"top\">20160801</th>\n",
       "      <th>3M</th>\n",
       "      <td>177.080002</td>\n",
       "      <td>178.539993</td>\n",
       "      <td>177.080002</td>\n",
       "      <td>178.289993</td>\n",
       "      <td>1598400</td>\n",
       "      <td>246</td>\n",
       "      <td>0</td>\n",
       "      <td>186</td>\n",
       "    </tr>\n",
       "    <tr>\n",
       "      <th>American Express</th>\n",
       "      <td>64.489998</td>\n",
       "      <td>64.739998</td>\n",
       "      <td>63.959999</td>\n",
       "      <td>64.129997</td>\n",
       "      <td>2913900</td>\n",
       "      <td>115</td>\n",
       "      <td>0</td>\n",
       "      <td>0</td>\n",
       "    </tr>\n",
       "    <tr>\n",
       "      <th>Apple</th>\n",
       "      <td>104.410004</td>\n",
       "      <td>106.150002</td>\n",
       "      <td>104.410004</td>\n",
       "      <td>106.050003</td>\n",
       "      <td>38167900</td>\n",
       "      <td>0</td>\n",
       "      <td>0</td>\n",
       "      <td>0</td>\n",
       "    </tr>\n",
       "    <tr>\n",
       "      <th>Boeing</th>\n",
       "      <td>133.210007</td>\n",
       "      <td>134.229996</td>\n",
       "      <td>132.699997</td>\n",
       "      <td>133.210007</td>\n",
       "      <td>3067300</td>\n",
       "      <td>0</td>\n",
       "      <td>0</td>\n",
       "      <td>105</td>\n",
       "    </tr>\n",
       "    <tr>\n",
       "      <th>Caterpillar</th>\n",
       "      <td>82.760002</td>\n",
       "      <td>82.879997</td>\n",
       "      <td>81.529999</td>\n",
       "      <td>81.949997</td>\n",
       "      <td>3377100</td>\n",
       "      <td>208</td>\n",
       "      <td>2</td>\n",
       "      <td>29</td>\n",
       "    </tr>\n",
       "  </tbody>\n",
       "</table>\n",
       "</div>"
      ],
      "text/plain": [
       "                                 open        high         low       close  \\\n",
       "date     company                                                            \n",
       "20160801 3M                177.080002  178.539993  177.080002  178.289993   \n",
       "         American Express   64.489998   64.739998   63.959999   64.129997   \n",
       "         Apple             104.410004  106.150002  104.410004  106.050003   \n",
       "         Boeing            133.210007  134.229996  132.699997  133.210007   \n",
       "         Caterpillar        82.760002   82.879997   81.529999   81.949997   \n",
       "\n",
       "                             volume  fblikes  fbdislikes  twittelikes  \n",
       "date     company                                                       \n",
       "20160801 3M                 1598400      246           0          186  \n",
       "         American Express   2913900      115           0            0  \n",
       "         Apple             38167900        0           0            0  \n",
       "         Boeing             3067300        0           0          105  \n",
       "         Caterpillar        3377100      208           2           29  "
      ]
     },
     "execution_count": 7,
     "metadata": {},
     "output_type": "execute_result"
    }
   ],
   "source": [
    "# Features selection\n",
    "X = dataset.loc[:, ['open','high','low', 'close','volume', 'fblikes', 'fbdislikes','twittelikes']]\n",
    "\n",
    "# Get DJIA close index price\n",
    "djia = dataset.loc[(dataset.index.get_level_values('company') == 'DJIA')]\n",
    "djia = djia.loc[:,['close']]\n",
    "\n",
    "X.head(5)    "
   ]
  },
  {
   "cell_type": "code",
   "execution_count": 8,
   "metadata": {},
   "outputs": [
    {
     "data": {
      "text/html": [
       "<div>\n",
       "<style>\n",
       "    .dataframe thead tr:only-child th {\n",
       "        text-align: right;\n",
       "    }\n",
       "\n",
       "    .dataframe thead th {\n",
       "        text-align: left;\n",
       "    }\n",
       "\n",
       "    .dataframe tbody tr th {\n",
       "        vertical-align: top;\n",
       "    }\n",
       "</style>\n",
       "<table border=\"1\" class=\"dataframe\">\n",
       "  <thead>\n",
       "    <tr style=\"text-align: right;\">\n",
       "      <th></th>\n",
       "      <th></th>\n",
       "      <th>close</th>\n",
       "    </tr>\n",
       "    <tr>\n",
       "      <th>date</th>\n",
       "      <th>company</th>\n",
       "      <th></th>\n",
       "    </tr>\n",
       "  </thead>\n",
       "  <tbody>\n",
       "    <tr>\n",
       "      <th>20160801</th>\n",
       "      <th>DJIA</th>\n",
       "      <td>18404.50977</td>\n",
       "    </tr>\n",
       "    <tr>\n",
       "      <th>20160802</th>\n",
       "      <th>DJIA</th>\n",
       "      <td>18313.76953</td>\n",
       "    </tr>\n",
       "    <tr>\n",
       "      <th>20160803</th>\n",
       "      <th>DJIA</th>\n",
       "      <td>18355.00000</td>\n",
       "    </tr>\n",
       "    <tr>\n",
       "      <th>20160804</th>\n",
       "      <th>DJIA</th>\n",
       "      <td>18352.05078</td>\n",
       "    </tr>\n",
       "    <tr>\n",
       "      <th>20160805</th>\n",
       "      <th>DJIA</th>\n",
       "      <td>18543.52930</td>\n",
       "    </tr>\n",
       "  </tbody>\n",
       "</table>\n",
       "</div>"
      ],
      "text/plain": [
       "                        close\n",
       "date     company             \n",
       "20160801 DJIA     18404.50977\n",
       "20160802 DJIA     18313.76953\n",
       "20160803 DJIA     18355.00000\n",
       "20160804 DJIA     18352.05078\n",
       "20160805 DJIA     18543.52930"
      ]
     },
     "execution_count": 8,
     "metadata": {},
     "output_type": "execute_result"
    }
   ],
   "source": [
    "djia.head(5)"
   ]
  },
  {
   "cell_type": "markdown",
   "metadata": {},
   "source": [
    "## 4. Prepare T+1 and T+30 DJIA data"
   ]
  },
  {
   "cell_type": "code",
   "execution_count": 9,
   "metadata": {},
   "outputs": [
    {
     "data": {
      "text/html": [
       "<div>\n",
       "<style>\n",
       "    .dataframe thead tr:only-child th {\n",
       "        text-align: right;\n",
       "    }\n",
       "\n",
       "    .dataframe thead th {\n",
       "        text-align: left;\n",
       "    }\n",
       "\n",
       "    .dataframe tbody tr th {\n",
       "        vertical-align: top;\n",
       "    }\n",
       "</style>\n",
       "<table border=\"1\" class=\"dataframe\">\n",
       "  <thead>\n",
       "    <tr style=\"text-align: right;\">\n",
       "      <th></th>\n",
       "      <th></th>\n",
       "      <th>close</th>\n",
       "      <th>T+1</th>\n",
       "      <th>T+30</th>\n",
       "    </tr>\n",
       "    <tr>\n",
       "      <th>date</th>\n",
       "      <th>company</th>\n",
       "      <th></th>\n",
       "      <th></th>\n",
       "      <th></th>\n",
       "    </tr>\n",
       "  </thead>\n",
       "  <tbody>\n",
       "    <tr>\n",
       "      <th>20160801</th>\n",
       "      <th>DJIA</th>\n",
       "      <td>18404.50977</td>\n",
       "      <td>18313.76953</td>\n",
       "      <td>18066.75000</td>\n",
       "    </tr>\n",
       "    <tr>\n",
       "      <th>20160802</th>\n",
       "      <th>DJIA</th>\n",
       "      <td>18313.76953</td>\n",
       "      <td>18355.00000</td>\n",
       "      <td>18034.76953</td>\n",
       "    </tr>\n",
       "    <tr>\n",
       "      <th>20160803</th>\n",
       "      <th>DJIA</th>\n",
       "      <td>18355.00000</td>\n",
       "      <td>18352.05078</td>\n",
       "      <td>18212.48047</td>\n",
       "    </tr>\n",
       "    <tr>\n",
       "      <th>20160804</th>\n",
       "      <th>DJIA</th>\n",
       "      <td>18352.05078</td>\n",
       "      <td>18543.52930</td>\n",
       "      <td>18123.80078</td>\n",
       "    </tr>\n",
       "    <tr>\n",
       "      <th>20160805</th>\n",
       "      <th>DJIA</th>\n",
       "      <td>18543.52930</td>\n",
       "      <td>18529.28906</td>\n",
       "      <td>18120.16992</td>\n",
       "    </tr>\n",
       "  </tbody>\n",
       "</table>\n",
       "</div>"
      ],
      "text/plain": [
       "                        close          T+1         T+30\n",
       "date     company                                       \n",
       "20160801 DJIA     18404.50977  18313.76953  18066.75000\n",
       "20160802 DJIA     18313.76953  18355.00000  18034.76953\n",
       "20160803 DJIA     18355.00000  18352.05078  18212.48047\n",
       "20160804 DJIA     18352.05078  18543.52930  18123.80078\n",
       "20160805 DJIA     18543.52930  18529.28906  18120.16992"
      ]
     },
     "execution_count": 9,
     "metadata": {},
     "output_type": "execute_result"
    }
   ],
   "source": [
    "# get y value for close(T+1) and close(T+30)\n",
    "_tmp = djia\n",
    "djia['T+1'] = _tmp['close'].shift(-1)\n",
    "djia['T+30'] = _tmp['close'].shift(-30)\n",
    "djia.head(5)   "
   ]
  },
  {
   "cell_type": "code",
   "execution_count": 10,
   "metadata": {
    "collapsed": true
   },
   "outputs": [],
   "source": [
    "# shift training data 30 day with 30 stocks + 1 DJIA\n",
    "# Get Total data set from Aug 1, 2016 to Oct 18, 2017\n",
    "total_row = len(X)\n",
    "data_range = total_row -(30*31)\n",
    "_tmpX = X.head(data_range)\n",
    "_tmpX.head(5)\n",
    "_tmpX.tail(5)\n",
    "X = _tmpX"
   ]
  },
  {
   "cell_type": "code",
   "execution_count": 11,
   "metadata": {
    "collapsed": true
   },
   "outputs": [],
   "source": [
    "# drop NaN rows.\n",
    "djia = djia.dropna()\n",
    "# X = X.dropna()\n",
    "#djia.tail(5)\n",
    "# X.tail(5)"
   ]
  },
  {
   "cell_type": "markdown",
   "metadata": {},
   "source": [
    "## 5. Transform the T+1 and T+30 DJIA from index to 1(growth) or 0 (not growth) "
   ]
  },
  {
   "cell_type": "code",
   "execution_count": 12,
   "metadata": {},
   "outputs": [
    {
     "data": {
      "text/plain": [
       "[['0', '0'],\n",
       " ['1', '0'],\n",
       " ['0', '0'],\n",
       " ['1', '0'],\n",
       " ['0', '0'],\n",
       " ['1', '0'],\n",
       " ['0', '0'],\n",
       " ['1', '0'],\n",
       " ['0', '0'],\n",
       " ['1', '0']]"
      ]
     },
     "execution_count": 12,
     "metadata": {},
     "output_type": "execute_result"
    }
   ],
   "source": [
    "\n",
    "# Calculate the trend on T+1 and T+30\n",
    "y = []\n",
    "\n",
    "for index, row in djia.iterrows():\n",
    "    _tmp = []\n",
    "    if (row['T+1']-row['close'] > 0):\n",
    "        _tmp.append('1')\n",
    "    else:\n",
    "        _tmp.append('0')\n",
    "    if (row['T+30']-row['close'] > 0):\n",
    "        _tmp.append('1')\n",
    "    else:\n",
    "        _tmp.append('0')   \n",
    "    y.append(_tmp)\n",
    "    \n",
    "#djia.head(5)\n",
    "y[0:10]"
   ]
  },
  {
   "cell_type": "markdown",
   "metadata": {},
   "source": [
    "## Remove Company name from dataset"
   ]
  },
  {
   "cell_type": "code",
   "execution_count": 13,
   "metadata": {},
   "outputs": [
    {
     "data": {
      "text/plain": [
       "(9548, 9)"
      ]
     },
     "execution_count": 13,
     "metadata": {},
     "output_type": "execute_result"
    }
   ],
   "source": [
    "from sklearn.model_selection import train_test_split\n",
    "\n",
    "x = X.reset_index()\n",
    "x = x.as_matrix()\n",
    "x = np.delete(x, np.s_[1:2], axis=1) #Remove company\n",
    "x.shape"
   ]
  },
  {
   "cell_type": "markdown",
   "metadata": {},
   "source": [
    "## 6. Standardization¶"
   ]
  },
  {
   "cell_type": "code",
   "execution_count": 14,
   "metadata": {},
   "outputs": [
    {
     "data": {
      "text/plain": [
       "array([[  0.00000000e+00,   6.68093396e-03,   6.71494901e-03, ...,\n",
       "          1.48420767e-03,   0.00000000e+00,   3.11782356e-03],\n",
       "       [  0.00000000e+00,   1.79932989e-03,   1.79914844e-03, ...,\n",
       "          6.93836918e-04,   0.00000000e+00,   0.00000000e+00],\n",
       "       [  0.00000000e+00,   3.53015551e-03,   3.58792990e-03, ...,\n",
       "          0.00000000e+00,   0.00000000e+00,   0.00000000e+00],\n",
       "       ..., \n",
       "       [  1.00000000e+00,   3.66933256e-03,   3.66784397e-03, ...,\n",
       "          0.00000000e+00,   0.00000000e+00,   8.04599628e-04],\n",
       "       [  1.00000000e+00,   2.73845024e-03,   2.73349638e-03, ...,\n",
       "          0.00000000e+00,   0.00000000e+00,   1.57567427e-03],\n",
       "       [  1.00000000e+00,   3.26784342e-03,   3.25704191e-03, ...,\n",
       "          1.15267429e-01,   1.33502861e-02,   0.00000000e+00]])"
      ]
     },
     "execution_count": 14,
     "metadata": {},
     "output_type": "execute_result"
    }
   ],
   "source": [
    "from sklearn.preprocessing import MinMaxScaler\n",
    "mmc = MinMaxScaler(feature_range=(0,1)) # default (0, 1) for sigmoid function\n",
    "mmc.fit(x)\n",
    "x_std = mmc.transform(x)\n",
    "x_std"
   ]
  },
  {
   "cell_type": "markdown",
   "metadata": {},
   "source": [
    "## 7. Reshape Data to 3D (time, companies+DJIA, and 9 features) after Standarlization\n",
    "### Split data to training set (92.8%) and testing set (7.2%)"
   ]
  },
  {
   "cell_type": "code",
   "execution_count": 15,
   "metadata": {
    "collapsed": true
   },
   "outputs": [],
   "source": [
    "# Reshape data to time slot, company+djia + 9 features\n",
    "data = x_std.reshape(308, 31, 9)\n",
    "data\n",
    "y = np.array(y)\n",
    "\n",
    "# # data.shape\n",
    "_X_train, X_test_std, _y_train, y_test = train_test_split(data, y, test_size = 0.072, shuffle = False, stratify = None)\n"
   ]
  },
  {
   "cell_type": "markdown",
   "metadata": {},
   "source": [
    "### Split traing set to training data(88.5% of training set) and validation data(11.5% of training set)"
   ]
  },
  {
   "cell_type": "code",
   "execution_count": 16,
   "metadata": {
    "collapsed": true
   },
   "outputs": [],
   "source": [
    "from sklearn.model_selection import train_test_split\n",
    "# Create training and validation sets\n",
    "X_train_std, X_validate_std, y_train, y_validate = train_test_split(_X_train, _y_train, test_size = 0.115, shuffle = False, stratify = None)\n",
    "# X_validate_std[1]"
   ]
  },
  {
   "cell_type": "code",
   "execution_count": 17,
   "metadata": {},
   "outputs": [
    {
     "data": {
      "text/plain": [
       "(252, 31, 9)"
      ]
     },
     "execution_count": 17,
     "metadata": {},
     "output_type": "execute_result"
    }
   ],
   "source": [
    "X_train_std.shape"
   ]
  },
  {
   "cell_type": "markdown",
   "metadata": {},
   "source": [
    "## 8. Build model: 3 Layers (128-64-32) LSTM for this prediction"
   ]
  },
  {
   "cell_type": "markdown",
   "metadata": {},
   "source": [
    "\n",
    "### LSTM Model"
   ]
  },
  {
   "cell_type": "code",
   "execution_count": 18,
   "metadata": {},
   "outputs": [],
   "source": [
    "from sklearn.model_selection import StratifiedShuffleSplit\n",
    "from sklearn.model_selection import GridSearchCV\n",
    "from sklearn.metrics import mean_squared_error\n",
    "from keras.utils import np_utils\n",
    "from keras.models import Sequential\n",
    "from keras.layers import Dense, Dropout, Activation, Flatten, TimeDistributed, LSTM, GRU\n",
    "from keras.callbacks import EarlyStopping, ReduceLROnPlateau, ModelCheckpoint, Callback\n",
    "\n",
    "def create_LSTM_model(optimizer='adam', kernel_init='normal', recurrent_init='normal', bias_init='zero', batch_size=1):\n",
    "    model = Sequential()\n",
    "    #input method: batch_input_shape=(batch, timesteps/lags, features)\n",
    "    #  or input_shape=(timesteps/lags, features) , model.fit(X, y, epochs=n, batch_size=b, verbose=2)\n",
    "    model.add(LSTM(128, batch_input_shape=(batch_size, 31, 9), return_sequences=True, activation='sigmoid', recurrent_activation='hard_sigmoid', use_bias=True, \n",
    "                   kernel_initializer=kernel_init, recurrent_initializer=recurrent_init, bias_initializer=bias_init,\n",
    "                   unit_forget_bias=True, kernel_regularizer=None, recurrent_regularizer=None, bias_regularizer=None, \n",
    "                   activity_regularizer=None, kernel_constraint=None, recurrent_constraint=None, bias_constraint=None, \n",
    "                   dropout=0.0, recurrent_dropout=0.0, implementation=1, return_state=False, \n",
    "                   go_backwards=False, stateful=False, unroll=False))\n",
    "    model.add(Dropout(0.2))\n",
    "    model.add(LSTM(64, return_sequences=True, activation='sigmoid', recurrent_activation='hard_sigmoid', use_bias=True, \n",
    "                   kernel_initializer=kernel_init, recurrent_initializer=recurrent_init, bias_initializer=bias_init, unit_forget_bias=True, \n",
    "                   kernel_regularizer=None, recurrent_regularizer=None, bias_regularizer=None, activity_regularizer=None, \n",
    "                   kernel_constraint=None, recurrent_constraint=None, bias_constraint=None, dropout=0.0, recurrent_dropout=0.0, \n",
    "                   implementation=1, return_state=False, go_backwards=False, stateful=False, unroll=False))\n",
    "    model.add(Dropout(0.2))\n",
    "    # The last layer of LSTM, return_sequences = False\n",
    "    model.add(LSTM(32, return_state=False, activation='sigmoid', recurrent_activation='hard_sigmoid', use_bias=True, \n",
    "                   kernel_initializer=kernel_init, recurrent_initializer=recurrent_init, bias_initializer=bias_init, unit_forget_bias=True, \n",
    "                   kernel_regularizer=None, recurrent_regularizer=None, bias_regularizer=None, activity_regularizer=None, \n",
    "                   kernel_constraint=None, recurrent_constraint=None, bias_constraint=None, dropout=0.0, recurrent_dropout=0.0, \n",
    "                   implementation=1, return_sequences=False, go_backwards=False, stateful=False, unroll=False))\n",
    "    model.add(Dropout(0.2))    \n",
    "    model.add(Dense(2, activation='sigmoid', kernel_initializer=kernel_init))\n",
    "    model.compile(optimizer=optimizer, loss='binary_crossentropy', metrics=['accuracy'])\n",
    "    return model\n",
    "\n"
   ]
  },
  {
   "cell_type": "code",
   "execution_count": 19,
   "metadata": {},
   "outputs": [
    {
     "data": {
      "text/plain": [
       "(252, 31, 9)"
      ]
     },
     "execution_count": 19,
     "metadata": {},
     "output_type": "execute_result"
    }
   ],
   "source": [
    "X_3D_train_std = X_train_std\n",
    "X_3D_train_std.shape"
   ]
  },
  {
   "cell_type": "markdown",
   "metadata": {
    "collapsed": true
   },
   "source": [
    "## Train the model"
   ]
  },
  {
   "cell_type": "code",
   "execution_count": 44,
   "metadata": {},
   "outputs": [
    {
     "name": "stdout",
     "output_type": "stream",
     "text": [
      "Train on 252 samples, validate on 33 samples\n",
      "Epoch 1/20\n",
      "252/252 [==============================] - 13s - loss: 0.6574 - acc: 0.5833 - val_loss: 0.4570 - val_acc: 0.8485\n",
      "Epoch 2/20\n",
      "252/252 [==============================] - 11s - loss: 0.6088 - acc: 0.6528 - val_loss: 0.4122 - val_acc: 0.8485\n",
      "Epoch 3/20\n",
      "252/252 [==============================] - 12s - loss: 0.6163 - acc: 0.6508 - val_loss: 0.4120 - val_acc: 0.8485\n",
      "Epoch 4/20\n",
      "252/252 [==============================] - 11s - loss: 0.6192 - acc: 0.6528 - val_loss: 0.4130 - val_acc: 0.8485\n",
      "Epoch 5/20\n",
      "251/252 [============================>.] - ETA: 0s - loss: 0.6238 - acc: 0.6494\n",
      "Epoch 00004: reducing learning rate to 0.00020000000949949026.\n",
      "252/252 [==============================] - 13s - loss: 0.6227 - acc: 0.6508 - val_loss: 0.4165 - val_acc: 0.8485\n",
      "Epoch 6/20\n",
      "251/252 [============================>.] - ETA: 0s - loss: 0.6151 - acc: 0.6614\n",
      "Epoch 00005: reducing learning rate to 0.0001.\n",
      "252/252 [==============================] - 13s - loss: 0.6144 - acc: 0.6607 - val_loss: 0.4231 - val_acc: 0.8485\n",
      "Epoch 00005: early stopping\n"
     ]
    },
    {
     "data": {
      "text/plain": [
       "<keras.callbacks.History at 0x1ce0a6dde10>"
      ]
     },
     "execution_count": 44,
     "metadata": {},
     "output_type": "execute_result"
    }
   ],
   "source": [
    "# Parameters\n",
    "from keras.optimizers import Adam\n",
    "# adam = Adam(lr=0.001, beta_1=0.9, beta_2=0.999, epsilon=1e-08, decay=0.0) #default\n",
    "adam = Adam(lr=0.001, beta_1=0.9, beta_2=0.999, epsilon=0.01, decay=0.0)\n",
    "optimizers = adam\n",
    "kernel_init = 'glorot_uniform'\n",
    "recurrent_init = 'glorot_uniform'\n",
    "bias_init ='zero'\n",
    "epochs = 20\n",
    "batches = 1\n",
    "\n",
    "model_LSTM = create_LSTM_model(optimizer=optimizers, batch_size=batches, kernel_init=kernel_init, \n",
    "                 recurrent_init=recurrent_init, bias_init=bias_init)\n",
    "model_LSTM.fit(X_3D_train_std, y_train,\n",
    "          epochs=epochs,\n",
    "          batch_size=batches,\n",
    "          shuffle=False,\n",
    "          validation_data=(X_validate_std, y_validate),\n",
    "          callbacks=[EarlyStopping(monitor='val_loss', min_delta=0.001, patience=3, verbose=1, mode='auto'),\n",
    "          ReduceLROnPlateau(monitor='val_loss', factor=0.2, patience=1, min_lr=0.0001, verbose=1, mode='auto')])"
   ]
  },
  {
   "cell_type": "markdown",
   "metadata": {},
   "source": [
    "### Save the model"
   ]
  },
  {
   "cell_type": "code",
   "execution_count": 48,
   "metadata": {
    "collapsed": true
   },
   "outputs": [],
   "source": [
    "import datetime\n",
    "model_filename = 'social-lstm_trained_model'+datetime.datetime.now().strftime(\"%Y%m%d%H%M\")+'.h5'\n",
    "model_LSTM.save(model_filename)"
   ]
  },
  {
   "cell_type": "markdown",
   "metadata": {},
   "source": [
    "### Load previous trained model if required."
   ]
  },
  {
   "cell_type": "code",
   "execution_count": 49,
   "metadata": {
    "scrolled": true
   },
   "outputs": [],
   "source": [
    "from keras.models import load_model\n",
    "model_LSTM = load_model('social-lstm_trained_model.h5')"
   ]
  },
  {
   "cell_type": "markdown",
   "metadata": {
    "collapsed": true
   },
   "source": [
    "## 9. Test on Testing Set"
   ]
  },
  {
   "cell_type": "code",
   "execution_count": 50,
   "metadata": {},
   "outputs": [],
   "source": [
    "batches = 1\n",
    "y_result = model_LSTM.predict(X_test_std, batch_size=batches)"
   ]
  },
  {
   "cell_type": "markdown",
   "metadata": {},
   "source": [
    "## 10. Results: \n",
    "### The Probability of djia increase in next day is around 52%, Pr. of next 30 days increase is 85%"
   ]
  },
  {
   "cell_type": "code",
   "execution_count": 51,
   "metadata": {},
   "outputs": [
    {
     "data": {
      "text/plain": [
       "array([[ 0.5147661 ,  0.84850389],\n",
       "       [ 0.51476365,  0.8485049 ],\n",
       "       [ 0.51476359,  0.84850371],\n",
       "       [ 0.51476401,  0.84850472],\n",
       "       [ 0.51476401,  0.84850454],\n",
       "       [ 0.51476395,  0.84850472],\n",
       "       [ 0.51476467,  0.84850436],\n",
       "       [ 0.51476586,  0.84850407],\n",
       "       [ 0.51476383,  0.84850454],\n",
       "       [ 0.51476443,  0.84850407],\n",
       "       [ 0.51476437,  0.84850436],\n",
       "       [ 0.51476467,  0.84850436],\n",
       "       [ 0.51476449,  0.8485043 ],\n",
       "       [ 0.51476455,  0.84850436],\n",
       "       [ 0.51476383,  0.84850353],\n",
       "       [ 0.51476449,  0.8485043 ],\n",
       "       [ 0.51476729,  0.84850514],\n",
       "       [ 0.51476479,  0.84850454],\n",
       "       [ 0.5147649 ,  0.84850436],\n",
       "       [ 0.51476449,  0.84850436],\n",
       "       [ 0.5147664 ,  0.84850454],\n",
       "       [ 0.51476997,  0.84850311],\n",
       "       [ 0.51476544,  0.84850413]], dtype=float32)"
      ]
     },
     "execution_count": 51,
     "metadata": {},
     "output_type": "execute_result"
    }
   ],
   "source": [
    "y_result"
   ]
  },
  {
   "cell_type": "markdown",
   "metadata": {},
   "source": [
    "## 11. Actual Trend of T+1, T+30 of each day"
   ]
  },
  {
   "cell_type": "code",
   "execution_count": 52,
   "metadata": {},
   "outputs": [
    {
     "data": {
      "text/plain": [
       "array([['1', '1'],\n",
       "       ['1', '1'],\n",
       "       ['0', '1'],\n",
       "       ['0', '1'],\n",
       "       ['0', '1'],\n",
       "       ['0', '1'],\n",
       "       ['1', '1'],\n",
       "       ['1', '1'],\n",
       "       ['1', '1'],\n",
       "       ['1', '1'],\n",
       "       ['1', '1'],\n",
       "       ['1', '1'],\n",
       "       ['1', '1'],\n",
       "       ['0', '1'],\n",
       "       ['0', '1'],\n",
       "       ['1', '1'],\n",
       "       ['1', '1'],\n",
       "       ['0', '1'],\n",
       "       ['1', '1'],\n",
       "       ['1', '1'],\n",
       "       ['1', '1'],\n",
       "       ['1', '1'],\n",
       "       ['1', '1']], \n",
       "      dtype='<U1')"
      ]
     },
     "execution_count": 52,
     "metadata": {},
     "output_type": "execute_result"
    }
   ],
   "source": [
    "y_test"
   ]
  },
  {
   "cell_type": "code",
   "execution_count": 53,
   "metadata": {},
   "outputs": [
    {
     "data": {
      "image/png": "[encoded data removed]",
      "text/plain": [
       "<matplotlib.figure.Figure at 0x1ce11a9bda0>"
      ]
     },
     "metadata": {},
     "output_type": "display_data"
    }
   ],
   "source": [
    "import datetime as dt\n",
    "import pandas as pd\n",
    "import matplotlib.pyplot as plt\n",
    "import numpy as np\n",
    "import matplotlib.pylab as plb\n",
    "df = djia.tail(23)\n",
    "_df = df.reset_index(level=1, drop=True) #Remove company information\n",
    "_df['close'].plot(color='r',label='DJIA')\n",
    "_df['T+1'].plot(color='g',label='T+1')\n",
    "_df['T+30'].plot(color='b',label='T+30')\n",
    "plt.title('Trend of DJIA during Sep 18, 2017 ~ Oct 18, 2017')\n",
    "plt.xlabel('Date')\n",
    "plt.ylabel('DJIA index')\n",
    "plt.legend(['DJIA', 'T+1', 'T+30'])\n",
    "plt.show()"
   ]
  },
  {
   "cell_type": "code",
   "execution_count": 54,
   "metadata": {},
   "outputs": [
    {
     "data": {
      "image/png": "[encoded data removed]",
      "text/plain": [
       "<matplotlib.figure.Figure at 0x1ce12367710>"
      ]
     },
     "metadata": {},
     "output_type": "display_data"
    }
   ],
   "source": [
    "df = X.reset_index(level=1, drop=True) # Remove company information\n",
    "df = df.groupby(['date']).sum()\n",
    "social_df = df.tail(23) # Get last 23 days\n",
    "\n",
    "social_df['fblikes'].plot(color='blue', label='fblikes')\n",
    "social_df['fbdislikes'].plot(color='black', label='fbdislikes')\n",
    "social_df['twittelikes'].plot(color='cyan', label='twitter likes')\n",
    "plt.title('Trend of Social media likes during Sep 18, 2017 ~ Oct 18, 2017')\n",
    "plt.xlabel('Date')\n",
    "plt.ylabel('likes/dislikes number')\n",
    "plt.legend(['fblikes', 'fbdislikes', 'twitter likes'])\n",
    "plt.show()"
   ]
  },
  {
   "cell_type": "code",
   "execution_count": 55,
   "metadata": {
    "scrolled": true
   },
   "outputs": [
    {
     "name": "stdout",
     "output_type": "stream",
     "text": [
      "T+1 report\n",
      "              precision    recall  f1-score   support\n",
      "\n",
      "          0       0.00      0.00      0.00         7\n",
      "          1       0.70      1.00      0.82        16\n",
      "\n",
      "avg / total       0.48      0.70      0.57        23\n",
      "\n",
      "T+30 report\n",
      "              precision    recall  f1-score   support\n",
      "\n",
      "          1       1.00      1.00      1.00        23\n",
      "\n",
      "avg / total       1.00      1.00      1.00        23\n",
      "\n"
     ]
    }
   ],
   "source": [
    "from sklearn import metrics\n",
    "threshold = 0.5\n",
    "y_result = np.where(y_result >= threshold, 1, 0)\n",
    "\n",
    "t1r = list(map(int,y_result[:,0]))\n",
    "t30r = list(map(int,y_result[:,1]))\n",
    "t1t = list(map(int,y_test[:,0]))\n",
    "t30t = list(map(int,y_test[:,1]))\n",
    "\n",
    "print('T+1 report\\n %s'%(metrics.classification_report(t1t, t1r))) # True value, predict results\n",
    "print('T+30 report\\n %s'%(metrics.classification_report(t30t, t30r)))"
   ]
  },
  {
   "cell_type": "code",
   "execution_count": null,
   "metadata": {
    "collapsed": true
   },
   "outputs": [],
   "source": []
  },
  {
   "cell_type": "code",
   "execution_count": 56,
   "metadata": {},
   "outputs": [
    {
     "name": "stdout",
     "output_type": "stream",
     "text": [
      "Confusion matrix, without normalization\n",
      "[[ 0  7]\n",
      " [ 0 16]]\n"
     ]
    },
    {
     "data": {
      "image/png": "[encoded data removed]",
      "text/plain": [
       "<matplotlib.figure.Figure at 0x1ce1241c940>"
      ]
     },
     "metadata": {},
     "output_type": "display_data"
    }
   ],
   "source": [
    "import itertools\n",
    "import numpy as np\n",
    "import matplotlib.pyplot as plt\n",
    "\n",
    "from sklearn.metrics import confusion_matrix\n",
    "\n",
    "\n",
    "\n",
    "def plot_confusion_matrix(cm, classes,\n",
    "                          normalize=False,\n",
    "                          title='Confusion matrix',\n",
    "                          cmap=plt.cm.Blues):\n",
    "    \"\"\"\n",
    "    This function prints and plots the confusion matrix.\n",
    "    Normalization can be applied by setting `normalize=True`.\n",
    "    \"\"\"\n",
    "    if normalize:\n",
    "        cm = cm.astype('float') / cm.sum(axis=1)[:, np.newaxis]\n",
    "        print(\"Normalized confusion matrix\")\n",
    "    else:\n",
    "        print('Confusion matrix, without normalization')\n",
    "\n",
    "    print(cm)\n",
    "\n",
    "    plt.imshow(cm, interpolation='nearest', cmap=cmap)\n",
    "    plt.title(title)\n",
    "    plt.colorbar()\n",
    "    tick_marks = np.arange(len(classes))\n",
    "    plt.xticks(tick_marks, classes, rotation=45)\n",
    "    plt.yticks(tick_marks, classes)\n",
    "\n",
    "    fmt = '.2f' if normalize else 'd'\n",
    "    thresh = cm.max() / 2.\n",
    "    for i, j in itertools.product(range(cm.shape[0]), range(cm.shape[1])):\n",
    "        plt.text(j, i, format(cm[i, j], fmt),\n",
    "                 horizontalalignment=\"center\",\n",
    "                 color=\"white\" if cm[i, j] > thresh else \"black\")\n",
    "\n",
    "    plt.tight_layout()\n",
    "    plt.ylabel('True label')\n",
    "    plt.xlabel('Predicted label')\n",
    "\n",
    "\n",
    "\n",
    "class_names = ['0','1']\n",
    "# Compute confusion matrix\n",
    "cnf_matrix = confusion_matrix(t1t, t1r)\n",
    "np.set_printoptions(precision=2)\n",
    "\n",
    "# Plot non-normalized confusion matrix\n",
    "plt.figure()\n",
    "plot_confusion_matrix(cnf_matrix, classes=class_names,\n",
    "                      title='Confusion matrix of T+1 Day DJIA prediction')\n",
    "\n",
    "plt.show()"
   ]
  },
  {
   "cell_type": "code",
   "execution_count": null,
   "metadata": {
    "collapsed": true
   },
   "outputs": [],
   "source": []
  },
  {
   "cell_type": "code",
   "execution_count": null,
   "metadata": {
    "collapsed": true
   },
   "outputs": [],
   "source": []
  },
  {
   "cell_type": "code",
   "execution_count": null,
   "metadata": {
    "collapsed": true
   },
   "outputs": [],
   "source": []
  }
 ],
 "metadata": {
  "kernelspec": {
   "display_name": "Python 3",
   "language": "python",
   "name": "python3"
  },
  "language_info": {
   "codemirror_mode": {
    "name": "ipython",
    "version": 3
   },
   "file_extension": ".py",
   "mimetype": "text/x-python",
   "name": "python",
   "nbconvert_exporter": "python",
   "pygments_lexer": "ipython3",
   "version": "3.6.3"
  }
 },
 "nbformat": 4,
 "nbformat_minor": 2
}
